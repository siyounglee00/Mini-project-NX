{
 "cells": [
  {
   "cell_type": "markdown",
   "metadata": {},
   "source": [
    "# MiniProject 1: Storage capacity in biologically plausible Hopfield networks #"
   ]
  },
  {
   "cell_type": "markdown",
   "metadata": {},
   "source": [
    "## Ex 3. Separate inhibitory population ##"
   ]
  },
  {
   "cell_type": "markdown",
   "metadata": {},
   "source": [
    "Let's study the capacity of a Hopfield network with stochastic binary neurons and low-activity patterns with the following model:\n",
    "This model is proposed in the paper by [Tsodyks and Feigel’man (1988)] and discussed briefly in Chapter 17.2.6 of the book Neuronal Dynamics.\n",
    "Given a neuron’s continuous state $S_i(t) = [-1, 1]$, we define the binary, stochastic spike variable $\\sigma_i(t) = \\{0, 1\\}$ as: \n",
    "$$\n",
    "P \\{ \\sigma_i(t) = +1 | S_i(t) \\} = \\frac{1}{2} (S_i(t) + 1)\n",
    "$$\n",
    "where $\\sigma_i = 1$ can be interpreted as a spike and $\\sigma_i = 0$ as the quiescent state of the neuron. The states update according to: \n",
    "$$\n",
    "S_i(t + 1) = \\phi \\left( \\sum_{j=1}^N w_{ij} \\sigma_j(t) - \\theta \\right)\n",
    "$$\n",
    "where $\\phi (h) = \\text{tanh}(4h)$ and the constant $\\theta$ is the neuronal \"firing threshold\". Synaptic weights are set according to: \n",
    "$$\n",
    "w_{ij} = \\frac{c}{N} \\sum_{\\mu = 1}^M (\\xi_i^\\mu - b) (\\xi_j^\\mu -a)\n",
    "$$\n",
    "where $c = \\frac{2}{a(1-a)}$, and $a$, $b$ are constants in the $[0, 1]$ interval. Here, each component $\\xi_i^{\\mu} \\in \\{ 0, 1 \\}$ of the patterns has a probability $a$ of being 1, which we call the activity (or sparseness). Therefore, $a$ is the mean activity of the patterns.\n",
    "\n",
    "**Ex 3. Separate inhibitory population**\n",
    "\n",
    "In a more biologically plausible model, the outgoing synapses from a given neuron cannot be both inhibitory and excitatory (that is, negative and positive): this is the Dale’s law, stating that each neuron should be either inhibitory or excitatory (with negative or positive outgoing weights). In this section, we see how a Hopfield network can include separate inhibitory and excitatory populations. We continue working with the same binary stochastic spike variables $\\sigma_i(t)$, and with random patterns $\\xi_i^{\\mu} \\in \\{ 0, 1 \\}$ with a mean activity of $a$. Patterns are stored in a population of excitatory neurons that receive negative feedback from an inhibitory population. The synaptic weight from excitatory neuron $j$ to excitatory neuron $i$ is given by: \n",
    "$$\n",
    "W^{E \\leftarrow E}_{ij} = \\frac{c}{N} \\sum_{\\mu} \\xi_i^{\\mu} \\xi_j^{\\mu}\n",
    "$$\n",
    "The inhibitory population is composed of $N_I$ neurons. Each inhibitory neuron $k$ receives input from $\\textbf{exactly}$ $K$ excitatory neurons, selected at random in the excitatory population, with synaptic strength \n",
    "$$\n",
    "W^{I \\leftarrow E}_{ki} = \\frac{1}{K}\n",
    "$$\n",
    "Each excitatory neuron $i$ receives $\\textit{negative}$ input from inhibitory neuron $k$ with weight: \n",
    "$$\n",
    "W^{E \\leftarrow I}_{ik} = \\frac{ca}{N_I} \\sum_{\\mu} \\xi_i^{\\mu}\n",
    "$$\n",
    "Finally, we assume that inhibitory neurons have a linear gain function: their state is a stochastic spike variable $\\sigma_k^I \\in \\{ 0, 1 \\}$, that updates according to:\n",
    "$$\n",
    "P \\{ \\sigma_k^I(t + 1) = 1 | h_k^I(t) \\} = h_k^I(t)\n",
    "$$\n",
    "where $h_k^I$ is the input received by inhibitory neuron $k$. Excitatory neurons update with this dynamic, where \n",
    "$$\n",
    "S_i(t) = \\phi(h_i(t) - \\theta)\n",
    "$$\n",
    "and $h_i$ is the total (excitatory and inhibitory) input received by excitatory neuron $i$.\n",
    "\n",
    "## Ex 3.1\n",
    "\n",
    "To write down the total input to an excitatory and an inhibitory neuron, we need to consider the contributions from both populations:\n",
    "\n",
    "**Total input to an excitatory neuron i:**\n",
    "$$\n",
    "h_i(t) = \\sum_{j=1}^N W_{ij}^{E \\leftarrow E} \\sigma_j(t) - \\sum_{k=1}^{N_I} W_{ik}^{E \\leftarrow I} \\sigma_k^I(t)\n",
    "$$\n",
    "where:\n",
    "- $W_{ij}^{E \\leftarrow E} = \\frac{c}{N} \\sum_{\\mu} \\xi_i^{\\mu} \\xi_j^{\\mu}$\n",
    "- $W_{ik}^{E \\leftarrow I} = \\frac{ca}{N_I} \\sum_{\\mu} \\xi_i^{\\mu}$\n",
    "- $\\sigma_j(t)$ is the stochastic binary spike variable of excitatory neuron $j$ at time $t$\n",
    "- $\\sigma_k^I(t)$ is the stochastic binary spike variable of inhibitory neuron $k$ at time $t$\n",
    "\n",
    "**Total input to an inhibitory neuron k:**\n",
    "$$\n",
    "h_k^I(t) = \\sum_{i \\in \\mathcal{K}(k)} W_{ik}^{I \\leftarrow E} \\sigma_i(t)\n",
    "$$\n",
    "where:\n",
    "- $\\mathcal{K}(k)$ denotes the set of $K$ excitatory neurons that project to inhibitory neuron $k$\n",
    "- $W_{ik}^{I \\leftarrow E} = \\frac{1}{K}$\n",
    "- $\\sigma_i(t)$ is the stochastic binary spike variable of excitatory neuron $i$ at time $t$\n",
    "\n",
    "Since the model adheres to Dale's law and the problem statement does not specify any inhibitory-to-inhibitory neuron connections, we can reasonably assume that $W_{ij}^{I \\leftarrow I}$ is not defined and effectively zero in this context. In other words, there are no direct inhibitory-to-inhibitory neuron connections in the model described. Thus:\n",
    "$$\n",
    "W_{ij}^{I \\leftarrow I} = 0\n",
    "$$\n",
    "This assumption aligns with the biological plausibility imposed by Dale's law, where each neuron either solely excites or solely inhibits but does not form connections of both types.\n",
    "\n",
    "### Average Input to an Excitatory Neuron\n",
    "\n",
    "Next, we will show that the average input to an excitatory neuron is equivalent to the input to a neuron in the model of Exercise 2, for $b = 0$.\n",
    "\n",
    "First, consider the average input from excitatory neurons to excitatory neuron $i$:\n",
    "$$\n",
    "\\left\\langle \\sum_{j=1}^N W_{ij}^{E \\leftarrow E} \\sigma_j(t) \\right\\rangle = \\left\\langle \\sum_{j=1}^N \\frac{c}{N} \\sum_{\\mu=1}^M \\xi_i^{\\mu} \\xi_j^{\\mu} \\sigma_j(t) \\right\\rangle\n",
    "$$\n",
    "Since $\\langle \\sigma_j(t) \\rangle = a$, where $a$ is the mean activity:\n",
    "$$\n",
    "= \\frac{c}{N} \\sum_{\\mu=1}^M \\xi_i^{\\mu} \\sum_{j=1}^N \\xi_j^{\\mu} \\langle \\sigma_j(t) \\rangle\n",
    "$$\n",
    "$$\n",
    "= \\frac{c}{N} \\sum_{\\mu=1}^M \\xi_i^{\\mu} \\sum_{j=1}^N \\xi_j^{\\mu} a\n",
    "$$\n",
    "$$\n",
    "= \\frac{ca}{N} \\sum_{\\mu=1}^M \\xi_i^{\\mu} \\sum_{j=1}^N \\xi_j^{\\mu}\n",
    "$$\n",
    "\n",
    "Now, consider the average input from inhibitory neurons to excitatory neuron $i$:\n",
    "$$\n",
    "\\left\\langle \\sum_{k=1}^{N_I} W_{ik}^{E \\leftarrow I} \\sigma_k^I(t) \\right\\rangle = \\left\\langle \\sum_{k=1}^{N_I} \\frac{ca}{N_I} \\sum_{\\mu=1}^M \\xi_i^{\\mu} \\sigma_k^I(t) \\right\\rangle\n",
    "$$\n",
    "Using the fact that $\\langle \\sigma_k^I(t) \\rangle \\approx \\left\\langle h_k^I(t) \\right\\rangle \\approx K \\cdot \\frac{1}{K} \\cdot a$, and approximating:\n",
    "$$\n",
    "= \\frac{ca}{N_I} \\sum_{\\mu=1}^M \\xi_i^{\\mu} \\sum_{k=1}^{N_I} \\langle \\sigma_k^I(t) \\rangle\n",
    "$$\n",
    "$$\n",
    "= \\frac{ca}{N_I} \\sum_{\\mu=1}^M \\xi_i^{\\mu} N_I a\n",
    "$$\n",
    "Dividing and multiplying by N:\n",
    "$$\n",
    "= \\frac{ca}{N} \\sum_{\\mu=1}^M \\xi_i^{\\mu} N a\n",
    "$$\n",
    "$$\n",
    "= \\frac{ca}{N} \\sum_{\\mu=1}^M \\xi_i^{\\mu} \\sum_{j=1}^N a\n",
    "$$\n",
    "\n",
    "Combining both inputs:\n",
    "$$\n",
    "\\left\\langle h_i(t) \\right\\rangle = \\frac{ca}{N} \\sum_{\\mu=1}^M \\xi_i^{\\mu} \\sum_{j=1}^N \\xi_j^{\\mu} - \\frac{ca}{N} \\sum_{\\mu=1}^M \\xi_i^{\\mu} \\sum_{j=1}^N a = \\frac{ca}{N} \\sum_{\\mu=1}^M \\xi_i^{\\mu} \\sum_{j=1}^N \\left( \\xi_j^{\\mu} - a \\right)\n",
    "$$\n",
    "Thus, the average input to an excitatory neuron in this model is equivalent to the input to a neuron in the model of Exercise 2 for $b = 0$ with $c = \\frac{2}{a^2 (1-a)}$"
   ]
  },
  {
   "cell_type": "markdown",
   "metadata": {},
   "source": [
    "## Ex 3.2"
   ]
  },
  {
   "cell_type": "code",
   "execution_count": null,
   "metadata": {
    "vscode": {
     "languageId": "plaintext"
    }
   },
   "outputs": [],
   "source": [
    "# We now set the mean pattern activity to a = 0.1, the threshold to θ = 1, the size of the populations to\n",
    "N = 300 and NI = 80, and K = 60."
   ]
  }
 ],
 "metadata": {
  "language_info": {
   "name": "python"
  },
  "orig_nbformat": 4
 },
 "nbformat": 4,
 "nbformat_minor": 2
}
