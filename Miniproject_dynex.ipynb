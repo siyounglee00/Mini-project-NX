{
 "cells": [
  {
   "cell_type": "markdown",
   "metadata": {},
   "source": [
    "# MiniProject 1: Storage capacity in biologically plausible Hopfield networks #"
   ]
  },
  {
   "cell_type": "markdown",
   "metadata": {},
   "source": [
    "## Introduction ##"
   ]
  },
  {
   "cell_type": "markdown",
   "metadata": {},
   "source": [
    "The Hopfield model is a standard model in computational neuroscience that models the storage of memory items, in the form of “patterns” of neuronal activity, in the recurrent connectivity of a neural network.\n",
    "\n",
    "The aim of this project is to investigate the robustness of memory retrieval in Hopfield networks with biologically plausible constraints. The lectures mostly covered standard Hopfield networks with balanced patterns and a symmetric weight matrix.\n",
    "\n",
    "However, in biological networks, neural activity is generally sparse with only a few neurons active at a time.\n",
    "\n",
    "Moreover, the symmetric connectivity of the standard Hopfield model is inconsistent with Dale’s law which states that the outgoing synapses from each neuron should be either excitatory or inhibitory; and it is very unlikely to find symmetric connectivity in the brain.\n",
    "\n",
    "To address these issues, we will generalise the Hopfield model to low-activity patterns and separated excitatory and inhibitory populations. We will first start with a classic symmetric Hopfield network, and investigate the capacity of this network in storing balanced random patterns, i.e. with 50% of active neurons in the network.\n",
    "\n",
    "In the second part, we will simulate a network with low-activity patterns. Finally, in the third section, we will separate the network into excitatory and inhibitory populations, and explore memory retrieval.\n",
    "\n",
    "Note: the project is intended to be solved using Python without the need for any specific library (other than the usual numpy and matplotlib). You are free to use other libraries if you want"
   ]
  },
  {
   "cell_type": "markdown",
   "metadata": {},
   "source": [
    "## Ex 0. Getting Started: Standard Hopfield Network ##"
   ]
  },
  {
   "cell_type": "markdown",
   "metadata": {},
   "source": [
    "To get started, we first consider the classical Hopfield model with balanced random patterns, consisting of $N$ fully connected, continuously-valued nodes $S_i(t) \\in [−1,\\, 1]$. The $M$ memory patterns $P^{\\mu} \\in \\{−1, 1\\}^{N}$ where each component is either +1 or −1 with probability $\\frac{1}{2}$, are stored in the network by the weight matrix given in the standard Hebbian form.\n",
    "\n",
    "$$\n",
    "W_{ij} = \\frac{1}{N} \\sum_{\\mu = 1}^M P^{\\mu}_i P^{\\mu}_j\n",
    "$$\n",
    "\n",
    "At each time step, the states update according to the rule:\n",
    "\n",
    "$$\n",
    "S_i(t + 1) = \\phi \\Biggl( \\sum_{j = 1}^N W_{ij} S_j(t) \\Biggr)\n",
    "$$\n",
    "\n",
    "where $\\phi(h) = \\tanh(\\beta h)$, and we use $\\beta = 4$"
   ]
  },
  {
   "cell_type": "markdown",
   "metadata": {},
   "source": [
    "## Ex 0.1 ##"
   ]
  },
  {
   "cell_type": "markdown",
   "metadata": {},
   "source": [
    "Write a method that generates binary balanced random patterns; and a method that computes the next state $S(t + 1)$ of the network, given the current state $S(t) = (S_1(t), . . . , S_N(t))$ and a set of patterns $P^1, ..., P^M$ according to eqs.(1)-(2)."
   ]
  },
  {
   "cell_type": "code",
   "execution_count": 1,
   "metadata": {},
   "outputs": [
    {
     "data": {
      "image/png": "[encoded data removed]",
      "text/plain": [
       "<Figure size 640x480 with 5 Axes>"
      ]
     },
     "metadata": {},
     "output_type": "display_data"
    }
   ],
   "source": [
    "%matplotlib inline\n",
    "from neurodynex3.hopfield_network import network, pattern_tools, plot_tools\n",
    "from helper_functions import generate_random_patterns, custom_function\n",
    "from matplotlib import pyplot as plt\n",
    "import numpy as np\n",
    "\n",
    "N = 100  # Number of neurons\n",
    "M = 5    # Number of patterns\n",
    "beta = 4 # The temperature\n",
    "\n",
    "hopfield_net, factory, pattern_list = generate_random_patterns(M,N)\n",
    "plot_tools.plot_pattern_list(pattern_list)\n",
    "\n",
    "hopfield_net.set_dynamics_to_user_function(custom_function(\"phi\", beta, N))"
   ]
  },
  {
   "cell_type": "markdown",
   "metadata": {},
   "source": [
    "## Ex 0.2 ##"
   ]
  },
  {
   "cell_type": "markdown",
   "metadata": {},
   "source": [
    "For a network with $N = 100$ neurons and $M = 5$ patterns, set the initial state close to the first pattern $P^1$.\n",
    "\n",
    "To do this, randomly flip a given percentage c = 5% of neurons in the pattern.\n",
    "\n",
    "Let the network evolve for 10-20 time steps until the network dynamics relax to a stable state.\n",
    "\n",
    "Check the overlaps of the final state with all the patterns. Did the network correctly retrieve the first pattern?"
   ]
  },
  {
   "cell_type": "code",
   "execution_count": 2,
   "metadata": {},
   "outputs": [
    {
     "name": "stdout",
     "output_type": "stream",
     "text": [
      "\n"
     ]
    },
    {
     "data": {
      "image/png": "[encoded data removed]",
      "text/plain": [
       "<Figure size 640x480 with 22 Axes>"
      ]
     },
     "metadata": {},
     "output_type": "display_data"
    },
    {
     "name": "stdout",
     "output_type": "stream",
     "text": [
      "With 10 steps, the network approximatively converged to the stored pattern.\n",
      "The overlap is 0.9980948856425162\n"
     ]
    }
   ],
   "source": [
    "from helper_functions import study_overlap, flip_and_iterate\n",
    "\n",
    "nr_steps = 10\n",
    "c = 0.05\n",
    "\n",
    "noisy_init_state, states, states_as_patterns = flip_and_iterate(hopfield_net, factory, pattern_list, int(c*N), nr_steps)\n",
    "plot_tools.plot_state_sequence_and_overlap(states_as_patterns, pattern_list, reference_idx=0, suptitle=\"Network dynamics\")\n",
    "\n",
    "overlap = study_overlap(states_as_patterns, pattern_list, nr_steps)"
   ]
  },
  {
   "cell_type": "markdown",
   "metadata": {},
   "source": [
    "## Ex 1. Storage capacity in the standard Hopfield network ##"
   ]
  },
  {
   "cell_type": "markdown",
   "metadata": {},
   "source": [
    "In this first part, we simulate the standard Hopfield network defined above and numerically estimate its\n",
    "storage capacity"
   ]
  },
  {
   "cell_type": "markdown",
   "metadata": {},
   "source": [
    "### Ex 1.1 ###"
   ]
  },
  {
   "cell_type": "markdown",
   "metadata": {},
   "source": [
    "Write a method that computes the next state $S(t + 1)$ of the network, given the current state $S(t)$, and a set of $M$ patterns $P^{\\mu}$.\n",
    "\n",
    "To do this, express the input to each neuron in terms of the M overlap variables $m^{\\mu}(t) = \\frac{1}{N} \\sum_{i} P^{\\mu}_i S_i(t)$:\n",
    "$$\n",
    "S_i(t+1) = \\phi \\Biggl( \\sum_{j = 1}^N W_{ij} S_j(t) \\Biggr) = \\phi \\Biggl( \\sum_{j = 1}^N \\biggl( \\frac{1}{N} \\sum_{\\mu = 1}^M P^{\\mu}_i P^{\\mu}_j \\biggr) S_j(t) \\Biggr) = \\phi \\Biggl( \\frac{1}{N} \\sum_{\\mu = 1}^M P^{\\mu}_i \\sum_{j = 1}^N P^{\\mu}_j S_j(t) \\Biggr) = \\phi \\Biggl( \\frac{1}{N} \\sum_{\\mu = 1}^M P^{\\mu}_i N \\cdot \\biggl( \\frac{1}{N} \\sum_{j = 1}^N P^{\\mu}_j S_j(t) \\biggr) \\Biggr)\n",
    "$$\n",
    "$$\n",
    "S_i(t+1) = \\phi \\Biggl( \\frac{1}{N} \\sum_{\\mu = 1}^M P^{\\mu}_i N \\cdot m^{\\mu}(t) \\Biggr) = \\phi \\Biggl( N \\cdot \\frac{1}{N} \\sum_{\\mu = 1}^M P^{\\mu}_i m^{\\mu}(t) \\Biggr) = \\phi \\Biggl( \\sum_{\\mu = 1}^M P^{\\mu}_i m^{\\mu}(t) \\Biggr)\n",
    "$$\n",
    "This reduces the computational cost by avoiding the matrix multiplication $\\sum_{j} W_{ij} \\cdot S_j(t)$ at each time step.\n",
    "\n",
    "What is the gain in the computational cost of a single update step?\n",
    "\n",
    "The activation function $\\phi(t)$ is computed using the _numpy_ library. Its computational complexity is considered of roughly $\\mathcal{O}(N)$.\n",
    "\n",
    "Multiplying the current state $S(t)$ of size $N \\times 1$ by the weight matrix $W_{ij}$ of size $N \\times N$ involves a computational cost of $\\mathcal{O}(N^2)$.\n",
    "\n",
    "The computational cost of the M overlap variables are of $\\mathcal{O}(N)$ as both $\\sum_{i}$ and $P^{\\mu}_i \\cdot S_i(t)$ involving one multiplication operation are of $\\mathcal{O}(N)$. The summation over all M patterns has a cost of $\\mathcal{O}(M)$. Although, computing M times $m^{\\mu}(t)$ with a cost of $\\mathcal{O}(N)$, implies a computational cost of $\\mathcal{O}(M \\cdot N)$ computing M times $m^{\\mu}(t)$.\n",
    "\n",
    "Therefore, as $M < N$ and in particular $M = 5$ and $N = 100$, the computational cost is reduced from $\\mathcal{O}(N^2)$ to $\\mathcal{O}(M \\cdot N)$."
   ]
  },
  {
   "cell_type": "code",
   "execution_count": 3,
   "metadata": {},
   "outputs": [],
   "source": [
    "def phi_function_opti(state_s0, pattern_list):\n",
    "    m_list = []\n",
    "    for pattern in pattern_list:\n",
    "        m_list.append((1/N) * np.sum(pattern * state_s0))\n",
    "    h = np.sum(pattern_list * m_list, axis=0)\n",
    "    state_s1 = np.tanh(beta * h)\n",
    "    return state_s1"
   ]
  },
  {
   "cell_type": "markdown",
   "metadata": {},
   "source": [
    "### Ex 1.2 ###"
   ]
  },
  {
   "cell_type": "markdown",
   "metadata": {},
   "source": [
    "Write a method that computes the distance between two given patterns. In our case, we will use\n",
    "the Hamming distance, defined as:\n",
    "$$\n",
    "D_{H}(P^{\\mu}, P^{\\nu}) = \\frac{N − P^{\\mu} \\cdot P^{\\nu}}{2N}\n",
    "$$\n",
    "What does this distance correspond to? What is the relationship with the overlap that we defined in the\n",
    "lectures?\n",
    "\n",
    "The Hamming distance as defined above, is a measure of similarity between two patterns $P^{\\mu}$ and $P^{\\nu}$. If the two patterns are equivalent, $P^{\\mu} = P^{\\nu}$, their Hamming distance is equal to 0. On the other hand, if they are totally different, their Hamming distance is equal to 1. For each neuron $i$, $P_i^{\\mu} \\cdot P_i^{\\nu} = \\{ +1$ if $P_i^{\\mu} = P_i^{\\nu}$ and $-1$ otherwise $\\}$. Indeed, the Hamming distance gives a percentage of the different neurons from a pattern to another. The overlap function is also a measure of similarity. In the course, the correlation $C^{\\mu, \\nu}$ measures the overlap as in $m^{\\mu}$, taking $P_i^{\\nu}$ instead of $S_i(t)$:\n",
    "$$\n",
    "C^{\\mu, \\nu} = \\frac{1}{N} \\sum_{i = 1}^N P_i^{\\mu} \\cdot P_i^{\\nu}\n",
    "$$\n",
    "The latter is related to the Hamming distance by:\n",
    "$$\n",
    "D_{H}(P^{\\mu}, P^{\\nu}) = \\frac{N − P^{\\mu} \\cdot P^{\\nu}}{2N} = \\frac{1}{2} \\Biggl( 1 - \\frac{1}{N} \\sum_{i = 1}^N P_i^{\\mu} \\cdot P_i^{\\nu} \\Biggr) = \\frac{1}{2} (1 - C^{\\mu, \\nu})\n",
    "$$"
   ]
  },
  {
   "cell_type": "code",
   "execution_count": 4,
   "metadata": {},
   "outputs": [],
   "source": [
    "def hamming_distance(pattern1, pattern2):\n",
    "    return (N-np.dot(pattern1.copy().flatten(), pattern2.copy().flatten()))/(2*N)"
   ]
  },
  {
   "cell_type": "markdown",
   "metadata": {},
   "source": [
    "### Ex 1.3 ###"
   ]
  },
  {
   "cell_type": "markdown",
   "metadata": {},
   "source": [
    "Create a Hopfield network with $N = 300$ neurons, in which $M = 5$ random patterns are stored.\n",
    "\n",
    "Run the network for $T = 20$ steps after setting as the initial state the first of the random patterns with 15 of its bits flipped.\n",
    "\n",
    "Plot the evolution of the Hamming distance between the network’s state $S(t)$ and each of the patterns $P^{\\mu}$.\n",
    "\n",
    "Was the first pattern retrieved correctly by the network?\n",
    "\n",
    "Note: We say that the network has correctly retrieved the pattern $P^{\\mu}$ if the last state $S(T)$ has a distance $D_H(P^{\\mu}, S(T)) \\le 0.05$.\n",
    "\n",
    "Pattern retrieval: We call a set of M patterns $\\{P^1, ..., P^M\\}$ stored in the network a dictionary.\n",
    "\n",
    "We define the error of pattern retrieval over a dictionary as:\n",
    "$$\n",
    "E = \\frac{1}{M} \\sum_{\\mu = 1}^M D_H(P^{\\mu}, S_f^{\\mu})\n",
    "$$\n",
    "where $S_f^{\\mu}$ is the final state of the network after convergence (you can use $T = 50$ iterations) if it was initialised close to pattern $P^{\\mu}$\n",
    ", i.e. with exactly 5% of its bits flipped.\n",
    "\n",
    "Similarly, the number of retrieved patterns in a dictionary is the number of patterns $P^{\\mu}$ in the dictionary such that $D_H(P^{\\mu}, S_f^{\\mu}) \\le 0.05$."
   ]
  },
  {
   "cell_type": "code",
   "execution_count": null,
   "metadata": {},
   "outputs": [
    {
     "data": {
      "image/png": "[encoded data removed]",
      "text/plain": [
       "<Figure size 640x480 with 5 Axes>"
      ]
     },
     "metadata": {},
     "output_type": "display_data"
    },
    {
     "data": {
      "image/png": "[encoded data removed]",
      "text/plain": [
       "<Figure size 640x480 with 1 Axes>"
      ]
     },
     "metadata": {},
     "output_type": "display_data"
    },
    {
     "name": "stdout",
     "output_type": "stream",
     "text": [
      "\n"
     ]
    },
    {
     "data": {
      "image/png": "[encoded data removed]",
      "text/plain": [
       "<Figure size 640x480 with 42 Axes>"
      ]
     },
     "metadata": {},
     "output_type": "display_data"
    },
    {
     "name": "stdout",
     "output_type": "stream",
     "text": [
      "The pattern used to initialise the first state S(t=0) is P0.\n",
      "The network retrieved the pattern P0.\n"
     ]
    }
   ],
   "source": [
    "from helper_functions import compute_hamming_distances, plot_hamming_distances, study_retrieval, all_same_pattern, custom_flip_and_iterate\n",
    "\n",
    "N = 300       # Number of neurons\n",
    "M = 5         # Number of patterns\n",
    "beta = 4      # The temperature\n",
    "T = 20        # Number of steps\n",
    "nr_flips = 20 # Number of flips\n",
    "T_f = 50      # Number of steps for the final state\n",
    "c_f = 0.05    # The percentage of flipped bits for the final state\n",
    "nr_flips_f = int(c_f*N)\n",
    "\n",
    "hopfield_net, factory, pattern_list = generate_random_patterns(M,N)\n",
    "# pattern_list = all_same_pattern(pattern_list, M) # To set all patterns equal to P0\n",
    "plot_tools.plot_pattern_list(pattern_list)\n",
    "\n",
    "# hopfield_net.set_dynamics_to_user_function(custom_function(\"phi\", beta, N))\n",
    "# noisy_init_state, states, states_as_patterns = flip_and_iterate(hopfield_net, factory, pattern_list, nr_flips, T)\n",
    "noisy_init_pattern, states, states_as_patterns = custom_flip_and_iterate(factory, beta, N, nr_flips, T, pattern_list)\n",
    "\n",
    "# Plot the hamming distances\n",
    "hamming_distances = compute_hamming_distances(states_as_patterns, pattern_list, M, T, N)\n",
    "plot_hamming_distances(hamming_distances, M, T)\n",
    "\n",
    "plot_tools.plot_state_sequence_and_overlap(states_as_patterns, pattern_list, reference_idx=0, suptitle=\"Network dynamics\")\n",
    "noisy_init_pattern, states, states_as_patterns = custom_flip_and_iterate(factory, beta, N, nr_flips, T_f, pattern_list)\n",
    "hamming_distances = compute_hamming_distances(states_as_patterns, pattern_list, M, T_f, N)\n",
    "retrieved_patterns = study_retrieval(hamming_distances, M, c_f, init_id=0)"
   ]
  },
  {
   "cell_type": "markdown",
   "metadata": {},
   "source": [
    "### Ex 1.4 ###"
   ]
  },
  {
   "cell_type": "markdown",
   "metadata": {},
   "source": [
    "For a dictionary of size $M = 5$, what are the mean and standard deviation (std) of the error of pattern retrieval, and of the number of retrieved patterns? To compute them, iterate over $10-15$ different initialisations of the dictionary."
   ]
  },
  {
   "cell_type": "code",
   "execution_count": null,
   "metadata": {},
   "outputs": [],
   "source": [
    "from helper_functions import study_simple_retrieval\n",
    "\n",
    "nr_iterations = 15 # Number of iterations\n",
    "\n",
    "error_retrieval_list = []\n",
    "nr_retrieved_patterns_list = []\n",
    "\n",
    "hopfield_net, factory, pattern_list = generate_random_patterns(M,N)\n",
    "for i in range(nr_iterations):\n",
    "    retrieved_patterns = []\n",
    "    hamming_distances = []\n",
    "\n",
    "    for init_id in range(M):\n",
    "        noisy_init_pattern, state, state_as_pattern = custom_flip_and_iterate(factory, beta, N, nr_flips, T_f, pattern_list, init_pattern=init_id, only_last_state=True)\n",
    "        hamming_distance, init_id = study_simple_retrieval(state_as_pattern, pattern_list[init_id], init_id, N, c_f)\n",
    "        if init_id is not None:\n",
    "            retrieved_patterns.append(init_id)\n",
    "        hamming_distances.append(hamming_distance)\n",
    "    \n",
    "    error_retrieval_list.append(1/M * np.sum(np.array(hamming_distances), axis=0))\n",
    "    nr_retrieved_patterns_list.append(len(retrieved_patterns))\n",
    "\n",
    "# Compute the mean and the standard deviation of the error retrieval:\n",
    "mean_error_retrieval = np.mean(error_retrieval_list)\n",
    "std_error_retrieval = np.std(error_retrieval_list)\n",
    "mean_retrieved_patterns = np.mean(nr_retrieved_patterns_list)\n",
    "std_retrieved_patterns = np.std(nr_retrieved_patterns_list)\n",
    "print(\"Mean error retrieval: {}\".format(mean_error_retrieval))\n",
    "print(\"Standard deviation error retrieval: {}\".format(std_error_retrieval))\n",
    "print(\"Mean retrieved patterns: {}\".format(mean_retrieved_patterns))\n",
    "print(\"Standard deviation retrieved patterns: {}\".format(std_retrieved_patterns))"
   ]
  },
  {
   "cell_type": "markdown",
   "metadata": {},
   "source": [
    "### Ex 1.5 ###"
   ]
  },
  {
   "cell_type": "markdown",
   "metadata": {},
   "source": [
    "Repeat the previous question for dictionary sizes $M$ varying from $5$ to $80-100$. Plot the error of\n",
    "pattern retrieval and the number of retrieved patterns as a function of dictionary size. Use the standard\n",
    "deviations to get error bars."
   ]
  },
  {
   "cell_type": "code",
   "execution_count": null,
   "metadata": {},
   "outputs": [],
   "source": [
    "# A list of M values from 5 to 100 with a step of 5:\n",
    "M_values = np.arange(5, 101, 10)\n",
    "mean_error_retrieval_list = []\n",
    "std_error_retrieval_list = []\n",
    "mean_retrieved_patterns_list = []\n",
    "std_retrieved_patterns_list = []\n",
    "max_retrieved_patterns_list = {}\n",
    "\n",
    "for M in M_values:\n",
    "    nr_iterations = 15\n",
    "\n",
    "    error_retrieval_list = []\n",
    "    nr_retrieved_patterns_list = []\n",
    "\n",
    "    hopfield_net, factory, pattern_list = generate_random_patterns(M,N)\n",
    "    for i in range(nr_iterations):\n",
    "        retrieved_patterns = []\n",
    "        hamming_distances = []\n",
    "\n",
    "        for init_id in range(M):\n",
    "            noisy_init_pattern, state, state_as_pattern = custom_flip_and_iterate(factory, beta, N, nr_flips, T_f, pattern_list, init_pattern=init_id, only_last_state=True)\n",
    "            hamming_distance, init_id = study_simple_retrieval(state_as_pattern, pattern_list[init_id], init_id, N, c_f, silent=True)\n",
    "            if init_id is not None:\n",
    "                retrieved_patterns.append(init_id)\n",
    "            hamming_distances.append(hamming_distance)\n",
    "\n",
    "        error_retrieval_list.append(1/M * np.sum(np.array(hamming_distances), axis=0))\n",
    "        nr_retrieved_patterns_list.append(len(retrieved_patterns))\n",
    "    \n",
    "    mean_error_retrieval_list.append(np.mean(error_retrieval_list))\n",
    "    std_error_retrieval_list.append(np.std(error_retrieval_list))\n",
    "    mean_retrieved_patterns_list.append(np.mean(nr_retrieved_patterns_list))\n",
    "    std_retrieved_patterns_list.append(np.std(nr_retrieved_patterns_list))\n",
    "    max_retrieved_patterns_list[M] = np.amax(nr_retrieved_patterns_list)\n",
    "\n",
    "# A plot of the mean error retrieval as a function of M with error bars using the standard deviation:\n",
    "plt.errorbar(M_values, mean_error_retrieval_list, yerr=std_error_retrieval_list, fmt='o')\n",
    "plt.xlabel(\"Number of patterns M\")\n",
    "plt.ylabel(\"Mean error retrieval\")\n",
    "plt.title(\"Mean error retrieval as a function of M\")\n",
    "plt.show()\n",
    "plt.errorbar(M_values, mean_retrieved_patterns_list, yerr=std_retrieved_patterns_list, fmt='o')\n",
    "plt.xlabel(\"Number of patterns M\")\n",
    "plt.ylabel(\"Number of retrieved patterns\")\n",
    "plt.title(\"Number of retrieved patterns as a function of M\")\n",
    "plt.show()"
   ]
  },
  {
   "cell_type": "markdown",
   "metadata": {},
   "source": [
    "### Ex 1.6 - Attention questions théoriques!!! ###"
   ]
  },
  {
   "cell_type": "markdown",
   "metadata": {},
   "source": [
    "What is the maximal number of patterns $M_{max}$ that can be stored and retrieved in the network?\n",
    "\n",
    "Is it the maximum number of retrieved patterns value that can be read from the graph above?\n",
    "\n",
    "No, it would be almost impossible that every randomly generated pattern is equivalent to $P^0$.\n",
    "\n",
    "What happens to the retrieval error if the number of stored patterns increases beyond $M_{max}$? Why?\n",
    "$$\n",
    "E = \\frac{1}{M} \\Biggl( \\sum_{\\mu \\neq \\mu^{\\star}} D_H(P^{\\mu}, S_f^{\\mu}) + \\sum_{\\mu = \\mu^{\\star}} \\biggl( D_H(P^{\\mu^{\\star}}, S_f^{\\mu^{\\star}}) \\leq 0.05 \\biggr) \\Biggr)\n",
    "$$\n",
    "If all patterns are the same and retrieved. $D_H(P^{\\mu}, S_f^{\\mu}) \\leq 0.05 \\; \\forall \\mu$. Therefore;\n",
    "$$\n",
    "E = \\frac{1}{M} \\sum_{\\mu = i}^M \\biggl( D_H(P^{\\mu}, S_f^{\\mu}) \\leq 0.05 \\biggr) \\leq \\frac{1}{M} M \\cdot 0.05 \\leq 0.05\n",
    "$$\n",
    "\n",
    "Capacity and loading: We call the ratio $L = \\frac{M}{N}$ the _loading_ of the network; whereas the capacity of the network is defined as the ratio $C = \\frac{M_{max}}{N}$ of the maximum number of patterns that can be retrieved in average in a dictionary, divided by the number of neurons."
   ]
  },
  {
   "cell_type": "code",
   "execution_count": null,
   "metadata": {},
   "outputs": [],
   "source": [
    "M_max_th = N/(2*np.log(N))\n",
    "# The maximum value of all items in the dictionary max_retrieved_patterns_list\n",
    "M_max_exp = np.amax(list(max_retrieved_patterns_list.values()))\n",
    "# The M value corresponding to the maximum value of all items in the dictionary max_retrieved_patterns_list\n",
    "M_value = [key for key, value in max_retrieved_patterns_list.items() if value == M_max_exp][0]\n",
    "capacity = M_max_exp/N\n",
    "loading = M_value/N\n",
    "print(\"Theoretical maximum number of patterns: {}\".format(M_max_th))\n",
    "print(\"Experimental maximum number of patterns: {}\".format(M_max_exp))\n",
    "print(\"Capacity: {}\".format(capacity))\n",
    "print(\"Loading: {}\".format(loading))"
   ]
  },
  {
   "cell_type": "markdown",
   "metadata": {},
   "source": [
    "### Ex 1.7 ###"
   ]
  },
  {
   "cell_type": "markdown",
   "metadata": {},
   "source": [
    "For different network sizes $N$ from 50 to 800, plot the number of retrieved patterns per dictionary divided by $N$ as a function of the loading $L$.\n",
    "\n",
    "How does the capacity depend on the network size? Is this what you would expect?\n",
    "\n",
    "Hint: select a range of $4-5$ loadings $L = \\frac{M}{N}$ close to the capacity you found for $N = 300$.\n",
    "\n",
    "For each network size $N$ and loading $L$, compute the mean and std of the number of retrieved patterns across $5-10$ initialisations of the dictionary to get a plot (with the errorbars).\n",
    "\n",
    "The capacity corresponds to the average number of retrieved patterns $M_{max}$ that you obtain for an optimal loading $L$, divided by $N$."
   ]
  },
  {
   "cell_type": "code",
   "execution_count": null,
   "metadata": {},
   "outputs": [],
   "source": [
    "N_values = np.arange(50, 801, 50)\n",
    "# The capacity found for N = 300\n",
    "previous_capacity = capacity.copy()\n",
    "retrieved_patterns_list = []\n",
    "capacities = []\n",
    "\n",
    "for N in N_values:\n",
    "    print(\"Computing capacity for N = {}...\".format(N))\n",
    "    # M values are in a range of 5 values of M such that M/N is smaller than the capacity + c_f and M/N is larger than the capacity - c_f\n",
    "    M_values = np.arange(int((previous_capacity - c_f) * N), int((previous_capacity + c_f) * N), int((2*c_f) * N / 5))\n",
    "\n",
    "    for M in M_values:\n",
    "        nr_iterations = 10\n",
    "\n",
    "        nr_retrieved_patterns_list = []\n",
    "\n",
    "        hopfield_net, factory, pattern_list = generate_random_patterns(M,N)\n",
    "        for i in range(nr_iterations):\n",
    "            retrieved_patterns = []\n",
    "            hamming_distances = []\n",
    "\n",
    "            for init_id in range(M):\n",
    "                noisy_init_pattern, state, state_as_pattern = custom_flip_and_iterate(factory, beta, N, nr_flips, T_f, pattern_list, init_pattern=init_id, only_last_state=True)\n",
    "                hamming_distance, init_id = study_simple_retrieval(state_as_pattern, pattern_list[init_id], init_id, N, c_f, silent=True)\n",
    "                if init_id is not None:\n",
    "                    retrieved_patterns.append(init_id)\n",
    "                hamming_distances.append(hamming_distance)\n",
    "\n",
    "            error_retrieval_list.append(1/M * np.sum(np.array(hamming_distances), axis=0))\n",
    "            nr_retrieved_patterns_list.append(len(retrieved_patterns))\n",
    "\n",
    "        mean_retrieved_patterns_list.append(np.mean(nr_retrieved_patterns_list))\n",
    "        std_retrieved_patterns_list.append(np.std(nr_retrieved_patterns_list))\n",
    "    \n",
    "    capacities.append(np.amax(mean_retrieved_patterns_list)/N)\n",
    "\n",
    "# A plot of the capacity as a function of N:\n",
    "plt.figure()\n",
    "plt.plot(N_values, capacities)\n",
    "plt.xlabel(\"Number of neurons N\")\n",
    "plt.ylabel(\"Capacity\")\n",
    "plt.title(\"Capacity as a function of N\")\n",
    "plt.show()"
   ]
  },
  {
   "cell_type": "markdown",
   "metadata": {},
   "source": [
    "### Ex 1.8 ###"
   ]
  },
  {
   "cell_type": "markdown",
   "metadata": {},
   "source": [
    "How does the inverse temperature $\\beta$ in eq.(2) affect the network capacity?"
   ]
  },
  {
   "cell_type": "code",
   "execution_count": null,
   "metadata": {},
   "outputs": [],
   "source": [
    "# Make an array of beta values from 0 to 10 with a step of 1\n",
    "beta_list = np.arange(0, 11, 1)\n",
    "# Take the number of neurons N = 300\n",
    "N = 300\n",
    "capacities = []\n",
    "\n",
    "for beta in beta_list:\n",
    "    print(\"Computing capacity for beta = {}...\".format(beta))\n",
    "    # M values are in a range of 5 values of M such that M/N is smaller than the capacity + c_f and M/N is larger than the capacity - c_f\n",
    "    M_values = np.arange(int((previous_capacity - c_f) * N), int((previous_capacity + c_f) * N), int((2*c_f) * N / 5))\n",
    "\n",
    "    for M in M_values:\n",
    "        nr_iterations = 10\n",
    "\n",
    "        nr_retrieved_patterns_list = []\n",
    "\n",
    "        hopfield_net, factory, pattern_list = generate_random_patterns(M,N)\n",
    "        for i in range(nr_iterations):\n",
    "            retrieved_patterns = []\n",
    "            hamming_distances = []\n",
    "\n",
    "            for init_id in range(M):\n",
    "                noisy_init_pattern, state, state_as_pattern = custom_flip_and_iterate(factory, beta, N, nr_flips, T_f, pattern_list, init_pattern=init_id, only_last_state=True)\n",
    "                hamming_distance, init_id = study_simple_retrieval(state_as_pattern, pattern_list[init_id], init_id, N, c_f, silent=True)\n",
    "                if init_id is not None:\n",
    "                    retrieved_patterns.append(init_id)\n",
    "                hamming_distances.append(hamming_distance)\n",
    "\n",
    "            error_retrieval_list.append(1/M * np.sum(np.array(hamming_distances), axis=0))\n",
    "            nr_retrieved_patterns_list.append(len(retrieved_patterns))\n",
    "\n",
    "        mean_retrieved_patterns_list.append(np.mean(nr_retrieved_patterns_list))\n",
    "        std_retrieved_patterns_list.append(np.std(nr_retrieved_patterns_list))\n",
    "\n",
    "    capacities.append(np.amax(mean_retrieved_patterns_list)/N)\n",
    "\n",
    "# A plot of the capacity as a function of beta:\n",
    "plt.figure()\n",
    "plt.plot(beta_list, capacities)\n",
    "plt.xlabel(\"Inverse temperature beta\")\n",
    "plt.ylabel(\"Capacity\")\n",
    "plt.title(\"Capacity as a function of N\")\n",
    "plt.show()"
   ]
  },
  {
   "cell_type": "markdown",
   "metadata": {},
   "source": [
    "## Ex 2. Low-activity patterns ##"
   ]
  },
  {
   "cell_type": "markdown",
   "metadata": {},
   "source": [
    "We now study the capacity of a Hopfield network with stochastic binary neurons and low-activity patterns. This model is proposed in the paper by [Tsodyks and Feigel’man (1988)] and discussed briefly in Chapter 17.2.6 of the book Neuronal Dynamics.\n",
    "Given a neuron’s continuous state $S_i(t) \\in [−1,\\, 1]$, we define the binary, stochastic spike variable $\\sigma_i(t) \\in \\{0, 1\\}$ as:"
   ]
  },
  {
   "cell_type": "markdown",
   "metadata": {},
   "source": [
    "$$P\\{ \\sigma_i(t) = +1 \\, | \\, S_i(t) \\} = \\frac{1}{2}(S_i(t) + 1)$$"
   ]
  },
  {
   "cell_type": "markdown",
   "metadata": {},
   "source": [
    "Where $\\sigma_i = 1$ can be interpreted as a spike and $\\sigma_i = 0$ as the quiescent state of the neuron. The states\n",
    "update according to:"
   ]
  },
  {
   "cell_type": "markdown",
   "metadata": {},
   "source": [
    "$$S_i(t + 1) = \\phi \\Biggl( \\sum_{j = 1}^N w_{ij} \\sigma_j(t) - \\theta\\Biggr)$$"
   ]
  },
  {
   "cell_type": "markdown",
   "metadata": {},
   "source": [
    "Where the constant $\\theta$ is the neuronal “firing threshold”. Synaptic weights are set according to:"
   ]
  },
  {
   "cell_type": "markdown",
   "metadata": {},
   "source": [
    "$$w_{ij} = \\frac{c}{N} \\sum_{\\mu = 1}^M (\\xi_i^\\mu - b)(\\xi_j^\\mu - a)$$"
   ]
  },
  {
   "cell_type": "markdown",
   "metadata": {},
   "source": [
    "where $c = \\frac{2}{{a(1-a)}}$, and a,b are constants in the [0, 1] interval. Here, each component $\\xi_j^\\mu\\in \\{0, 1\\}$ in the patterns has a probability a of being 1, which is termed the activity or sparseness. Therefore, a represents the mean activity of the patterns.\n"
   ]
  },
  {
   "cell_type": "markdown",
   "metadata": {},
   "source": [
    "### Ex 2.1 ###"
   ]
  },
  {
   "cell_type": "markdown",
   "metadata": {},
   "source": [
    "For which values of the constants a, b, and $\\theta$ is this model approximately equivalent to the standard Hopfield model in the previous section? Under which condition on the distribution of the patterns is it exactly equivalent (upon averaging over the stochastic update of eq.(5))?\n",
    "Hint: write down and compare the average input to the neurons in both models."
   ]
  },
  {
   "cell_type": "markdown",
   "metadata": {},
   "source": [
    "Let $p_i^\\mu = 2\\xi_i^\\mu - 1$. Then, "
   ]
  },
  {
   "cell_type": "markdown",
   "metadata": {},
   "source": [
    "$$w_{ij} = \\frac{1}{N}\\sum_{\\mu = 1}^M p_i^\\mu p_j^\\mu = \\frac{1}{N}\\sum_{\\mu = 1}^M (2\\xi_i^\\mu - 1) (2\\xi_j^\\mu - 1) = \\frac{4}{N}\\sum_{\\mu = 1}^M (\\xi_i^\\mu - \\frac{1}{2}) (\\xi_j^\\mu - \\frac{1}{2})"
   ]
  },
  {
   "cell_type": "markdown",
   "metadata": {},
   "source": [
    "Which shows that in order have an equivalence to the standard model, we need $a=b=\\frac{1}{2}$. In order to find $\\theta$, we use $\\sigma_i(t) = \\frac{1}{2}(S_i(t)+1)$."
   ]
  },
  {
   "cell_type": "markdown",
   "metadata": {},
   "source": [
    "$$S_i(t + 1) = \\phi \\Biggl( \\sum_{j = 1}^N w_{ij} S_j(t) \\Biggr) = \\phi \\Biggl( \\sum_{j = 1}^N w_{ij} (2\\sigma_j(t) - 1) \\Biggr) = \\phi \\Biggl( \\sum_{j = 1}^N \\tilde{W}_{ij} \\sigma_j(t) - \\sum_{j = 1}^N w_{ij}\\Biggr)$$\n"
   ]
  },
  {
   "cell_type": "markdown",
   "metadata": {},
   "source": []
  },
  {
   "cell_type": "markdown",
   "metadata": {},
   "source": [
    "with $\\theta = \\sum_{j = 1}^N w_{ij}$ to have an equilvalence to the standard model. "
   ]
  },
  {
   "cell_type": "markdown",
   "metadata": {},
   "source": [
    "### Ex 2.2 ###"
   ]
  },
  {
   "cell_type": "markdown",
   "metadata": {},
   "source": [
    "Write methods for generating random patterns $\\xi^\\mu\\in \\{0, 1\\}^N$ with activity (i.e. average number of\n",
    "(+1)’s) a, for computing the Hamming distance between new patterns $\\xi^\\mu$ and new state variables $\\sigma$, and\n",
    "for simulating the new model above."
   ]
  },
  {
   "cell_type": "markdown",
   "metadata": {},
   "source": [
    "First, we generate random patterns using activity a, the average number of (+1)'s, which can also be interpreted as the fraction of +1 in the pattern (since the two values of the pattern are 0 and 1). "
   ]
  },
  {
   "cell_type": "code",
   "execution_count": 23,
   "metadata": {},
   "outputs": [
    {
     "data": {
      "text/plain": [
       "<module 'helper_functions' from '/Users/sisi/Desktop/Neuronal Dynamics/Mini-project-NX/helper_functions.py'>"
      ]
     },
     "execution_count": 23,
     "metadata": {},
     "output_type": "execute_result"
    }
   ],
   "source": [
    "# just to reload helper_functions when needed\n",
    "from importlib import reload\n",
    "import helper_functions\n",
    "reload(helper_functions)"
   ]
  },
  {
   "cell_type": "code",
   "execution_count": 24,
   "metadata": {},
   "outputs": [
    {
     "data": {
      "image/png": "[encoded data removed]",
      "text/plain": [
       "<Figure size 640x480 with 5 Axes>"
      ]
     },
     "metadata": {},
     "output_type": "display_data"
    },
    {
     "name": "stdout",
     "output_type": "stream",
     "text": [
      "-0.30999571456213765\n",
      "100\n"
     ]
    }
   ],
   "source": [
    "from helper_functions import generate_random_patterns_low_activity, custom_function_low, standard_teta\n",
    "\n",
    "N = 100  # Number of neurons\n",
    "M = 5    # Number of patterns\n",
    "beta = 4 # The temperature\n",
    "a = 0.5  # The activity level\n",
    "b = 0.5\n",
    "\n",
    "hopfield_net_low, factory_low, pattern_list_low = generate_random_patterns_low_activity(M,N,a,b)\n",
    "plot_tools.plot_pattern_list(pattern_list_low)\n",
    "teta = standard_teta(hopfield_net_low.weights)\n",
    "print(np.min(hopfield_net_low.weights))\n",
    "print(len(teta))\n",
    "\n",
    "hopfield_net.set_dynamics_to_user_function(custom_function_low(\"phi_opti\", beta, teta, a, N))"
   ]
  },
  {
   "cell_type": "code",
   "execution_count": 17,
   "metadata": {},
   "outputs": [
    {
     "name": "stdout",
     "output_type": "stream",
     "text": [
      "[[ 1  1 -1  1  1 -1  1 -1 -1  1]\n",
      " [ 1 -1  1  1 -1  1  1 -1 -1  1]\n",
      " [ 1  1  1  1  1  1  1 -1  1  1]\n",
      " [-1 -1 -1 -1  1 -1  1  1 -1  1]\n",
      " [-1 -1 -1 -1 -1  1  1 -1 -1  1]\n",
      " [-1  1  1 -1 -1  1  1  1  1 -1]\n",
      " [ 1  1 -1 -1  1  1 -1 -1  1 -1]\n",
      " [ 1  1  1 -1 -1  1 -1 -1  1  1]\n",
      " [ 1  1 -1 -1  1  1 -1  1 -1 -1]\n",
      " [ 1 -1  1  1  1 -1 -1  1 -1  1]]\n",
      "Pattern shape: 100\n",
      "Flat pattern shape: (100,)\n"
     ]
    },
    {
     "data": {
      "text/plain": [
       "-0.56"
      ]
     },
     "execution_count": 17,
     "metadata": {},
     "output_type": "execute_result"
    }
   ],
   "source": [
    "from helper_functions import compute_overlap_low\n",
    "\n",
    "nr_steps = 10\n",
    "c = 0.05\n",
    "# test\n",
    "print(pattern_list_low[0])\n",
    "compute_overlap_low(pattern_list_low[0], pattern_list_low[1], a)"
   ]
  },
  {
   "cell_type": "code",
   "execution_count": 12,
   "metadata": {},
   "outputs": [
    {
     "name": "stdout",
     "output_type": "stream",
     "text": [
      "\n",
      "Pattern shape: 100\n",
      "Flat pattern shape: (100,)\n",
      "Pattern shape: 100\n",
      "Flat pattern shape: (100,)\n",
      "Pattern shape: 100\n",
      "Flat pattern shape: (100,)\n",
      "Pattern shape: 100\n",
      "Flat pattern shape: (100,)\n",
      "Pattern shape: 100\n",
      "Flat pattern shape: (100,)\n",
      "[ 7.76 -0.16  1.2   0.96  0.72]\n",
      "Pattern shape: 100\n",
      "Flat pattern shape: (100,)\n",
      "Pattern shape: 100\n",
      "Flat pattern shape: (100,)\n",
      "Pattern shape: 100\n",
      "Flat pattern shape: (100,)\n",
      "Pattern shape: 100\n",
      "Flat pattern shape: (100,)\n",
      "Pattern shape: 100\n",
      "Flat pattern shape: (100,)\n",
      "[ 8.56 -0.32  0.72  1.44  0.24]\n",
      "Pattern shape: 100\n",
      "Flat pattern shape: (100,)\n",
      "Pattern shape: 100\n",
      "Flat pattern shape: (100,)\n",
      "Pattern shape: 100\n",
      "Flat pattern shape: (100,)\n",
      "Pattern shape: 100\n",
      "Flat pattern shape: (100,)\n",
      "Pattern shape: 100\n",
      "Flat pattern shape: (100,)\n",
      "[ 8.56 -0.32  0.72  1.44  0.24]\n",
      "Pattern shape: 100\n",
      "Flat pattern shape: (100,)\n",
      "Pattern shape: 100\n",
      "Flat pattern shape: (100,)\n",
      "Pattern shape: 100\n",
      "Flat pattern shape: (100,)\n",
      "Pattern shape: 100\n",
      "Flat pattern shape: (100,)\n",
      "Pattern shape: 100\n",
      "Flat pattern shape: (100,)\n",
      "[ 8.56 -0.32  0.72  1.44  0.24]\n",
      "Pattern shape: 100\n",
      "Flat pattern shape: (100,)\n",
      "Pattern shape: 100\n",
      "Flat pattern shape: (100,)\n",
      "Pattern shape: 100\n",
      "Flat pattern shape: (100,)\n",
      "Pattern shape: 100\n",
      "Flat pattern shape: (100,)\n",
      "Pattern shape: 100\n",
      "Flat pattern shape: (100,)\n",
      "[ 8.56 -0.32  0.72  1.44  0.24]\n",
      "Pattern shape: 100\n",
      "Flat pattern shape: (100,)\n",
      "Pattern shape: 100\n",
      "Flat pattern shape: (100,)\n",
      "Pattern shape: 100\n",
      "Flat pattern shape: (100,)\n",
      "Pattern shape: 100\n",
      "Flat pattern shape: (100,)\n",
      "Pattern shape: 100\n",
      "Flat pattern shape: (100,)\n",
      "[ 8.56 -0.32  0.72  1.44  0.24]\n",
      "Pattern shape: 100\n",
      "Flat pattern shape: (100,)\n",
      "Pattern shape: 100\n",
      "Flat pattern shape: (100,)\n",
      "Pattern shape: 100\n",
      "Flat pattern shape: (100,)\n",
      "Pattern shape: 100\n",
      "Flat pattern shape: (100,)\n",
      "Pattern shape: 100\n",
      "Flat pattern shape: (100,)\n",
      "[ 8.56 -0.32  0.72  1.44  0.24]\n",
      "Pattern shape: 100\n",
      "Flat pattern shape: (100,)\n",
      "Pattern shape: 100\n",
      "Flat pattern shape: (100,)\n",
      "Pattern shape: 100\n",
      "Flat pattern shape: (100,)\n",
      "Pattern shape: 100\n",
      "Flat pattern shape: (100,)\n",
      "Pattern shape: 100\n",
      "Flat pattern shape: (100,)\n",
      "[ 8.56 -0.32  0.72  1.44  0.24]\n",
      "Pattern shape: 100\n",
      "Flat pattern shape: (100,)\n",
      "Pattern shape: 100\n",
      "Flat pattern shape: (100,)\n",
      "Pattern shape: 100\n",
      "Flat pattern shape: (100,)\n",
      "Pattern shape: 100\n",
      "Flat pattern shape: (100,)\n",
      "Pattern shape: 100\n",
      "Flat pattern shape: (100,)\n",
      "[ 8.56 -0.32  0.72  1.44  0.24]\n",
      "Pattern shape: 100\n",
      "Flat pattern shape: (100,)\n",
      "Pattern shape: 100\n",
      "Flat pattern shape: (100,)\n",
      "Pattern shape: 100\n",
      "Flat pattern shape: (100,)\n",
      "Pattern shape: 100\n",
      "Flat pattern shape: (100,)\n",
      "Pattern shape: 100\n",
      "Flat pattern shape: (100,)\n",
      "[ 8.56 -0.32  0.72  1.44  0.24]\n",
      "Pattern shape: 100\n",
      "Flat pattern shape: (100,)\n",
      "Pattern shape: 100\n",
      "Flat pattern shape: (100,)\n",
      "Pattern shape: 100\n",
      "Flat pattern shape: (100,)\n",
      "Pattern shape: 100\n",
      "Flat pattern shape: (100,)\n",
      "Pattern shape: 100\n",
      "Flat pattern shape: (100,)\n",
      "[ 8.56 -0.32  0.72  1.44  0.24]\n"
     ]
    },
    {
     "data": {
      "image/png": "[encoded data removed]",
      "text/plain": [
       "<Figure size 640x480 with 22 Axes>"
      ]
     },
     "metadata": {},
     "output_type": "display_data"
    },
    {
     "name": "stdout",
     "output_type": "stream",
     "text": [
      "Pattern shape: 100\n",
      "Flat pattern shape: (100,)\n",
      "With 10 steps, the network did not converge to the stored pattern.\n",
      "The overlap is 8.56\n"
     ]
    }
   ],
   "source": [
    "from helper_functions import study_overlap_low_activity, custom_flip_and_iterate_low, plot_state_sequence_and_overlap_low\n",
    "\n",
    "nr_steps = 10\n",
    "c = 0.05\n",
    "\n",
    "noisy_init_state_low, states_low, states_as_patterns_low = custom_flip_and_iterate_low(factory_low, beta, teta, a, N, int(c*N), nr_steps, pattern_list_low,  weights = hopfield_net_low.weights)\n",
    "plot_state_sequence_and_overlap_low(states_as_patterns_low, pattern_list_low, a, reference_idx=0, suptitle=\"Network dynamics\")\n",
    "overlap = study_overlap_low_activity(states_as_patterns_low, pattern_list_low, nr_steps, a)"
   ]
  },
  {
   "cell_type": "code",
   "execution_count": null,
   "metadata": {},
   "outputs": [
    {
     "data": {
      "image/png": "[encoded data removed]",
      "text/plain": [
       "<Figure size 640x480 with 1 Axes>"
      ]
     },
     "metadata": {},
     "output_type": "display_data"
    },
    {
     "name": "stdout",
     "output_type": "stream",
     "text": [
      "\n",
      "[ 0.10875 -0.01125  0.0125  -0.015   -0.00125]\n",
      "[ 0.00437657 -0.01264515  0.00840234 -0.00754813 -0.00303477]\n",
      "[-0.01089672 -0.01017307  0.00797749 -0.00221175 -0.00022348]\n",
      "[-0.01327291 -0.00917651  0.00769595 -0.00057287  0.00084647]\n",
      "[-0.01366358 -0.00886783  0.00756683 -0.00014187  0.00114943]\n",
      "[-1.37328776e-02 -8.78121613e-03  7.52045625e-03 -3.45768649e-05\n",
      "  1.22605115e-03]\n",
      "[-1.37463131e-02 -8.75807310e-03  7.50585993e-03 -8.39462107e-06\n",
      "  1.24441964e-03]\n",
      "[-1.37491536e-02 -8.75205752e-03  7.50160821e-03 -2.04054438e-06\n",
      "  1.24871017e-03]\n",
      "[-1.37497973e-02 -8.75051957e-03  7.50042882e-03 -4.97529094e-07\n",
      "  1.24970184e-03]\n",
      "[-1.37499503e-02 -8.75013043e-03  7.50011208e-03 -1.21722108e-07\n",
      "  1.24993074e-03]\n",
      "[-1.37499876e-02 -8.75003262e-03  7.50002889e-03 -2.98727423e-08\n",
      "  1.24998379e-03]\n",
      "[-1.37499969e-02 -8.75000814e-03  7.50000737e-03 -7.35051473e-09\n",
      "  1.24999617e-03]\n",
      "[-1.37499992e-02 -8.75000203e-03  7.50000187e-03 -1.81246657e-09\n",
      "  1.24999909e-03]\n",
      "[-1.37499998e-02 -8.75000050e-03  7.50000047e-03 -4.47640210e-10\n",
      "  1.24999978e-03]\n",
      "[-1.37500000e-02 -8.75000013e-03  7.50000012e-03 -1.10694856e-10\n",
      "  1.24999995e-03]\n",
      "[-1.37500000e-02 -8.75000003e-03  7.50000003e-03 -2.73988449e-11\n",
      "  1.24999999e-03]\n",
      "[-1.37500000e-02 -8.75000001e-03  7.50000001e-03 -6.78642413e-12\n",
      "  1.25000000e-03]\n",
      "[-1.37500000e-02 -8.75000000e-03  7.50000000e-03 -1.68180629e-12\n",
      "  1.25000000e-03]\n",
      "[-1.37500000e-02 -8.75000000e-03  7.50000000e-03 -4.16946339e-13\n",
      "  1.25000000e-03]\n",
      "[-1.3750000e-02 -8.7500000e-03  7.5000000e-03 -1.0339514e-13\n",
      "  1.2500000e-03]\n",
      "[-1.3750000e-02 -8.7500000e-03  7.5000000e-03 -2.5646707e-14\n",
      "  1.2500000e-03]\n"
     ]
    },
    {
     "data": {
      "image/png": "[encoded data removed]",
      "text/plain": [
       "<Figure size 640x480 with 42 Axes>"
      ]
     },
     "metadata": {},
     "output_type": "display_data"
    },
    {
     "name": "stdout",
     "output_type": "stream",
     "text": [
      "The pattern used to initialise the first state S(t=0) is P0.\n"
     ]
    }
   ],
   "source": [
    "from helper_functions import compute_hamming_distances, plot_hamming_distances, study_retrieval, all_same_pattern, custom_flip_and_iterate_low, plot_state_sequence_and_overlap_low\n",
    "\n",
    "N = 300       # Number of neurons\n",
    "M = 5         # Number of patterns\n",
    "beta = 4      # The temperature\n",
    "T = 20        # Number of steps\n",
    "nr_flips = 1 # Number of flips\n",
    "T_f = 50      # Number of steps for the final state\n",
    "c_f = 0.05    # The percentage of flipped bits for the final state\n",
    "nr_flips_f = int(c_f*N)\n",
    "\n",
    "# hopfield_net.set_dynamics_to_user_function(custom_function(\"phi\", beta, N))\n",
    "# noisy_init_state, states, states_as_patterns = flip_and_iterate(hopfield_net, factory, pattern_list, nr_flips, T)\n",
    "#def custom_flip_and_iterate_low(factory, beta, teta, a, N, nr_of_flips, nr_steps, pattern_list, init_pattern=0, only_last_state=False, function_name=\"phi_opti\", weights=None):\n",
    "\n",
    "noisy_init_pattern_low, states_low, states_as_patterns_low = custom_flip_and_iterate_low(factory_low, beta, teta, a, N, nr_flips, T, pattern_list_low)\n",
    "\n",
    "# Plot the hamming distances\n",
    "hamming_distances = compute_hamming_distances(states_as_patterns_low, pattern_list_low, M, T, N)\n",
    "plot_hamming_distances(hamming_distances, M, T)\n",
    "\n",
    "plot_state_sequence_and_overlap_low(states_as_patterns_low, pattern_list_low, a,reference_idx=0, suptitle=\"Network dynamics\")\n",
    "noisy_init_pattern_low, states_low, states_as_patterns_low = custom_flip_and_iterate_low(factory_low, beta, teta, a, N, nr_flips, T_f, pattern_list_low)\n",
    "hamming_distances_low = compute_hamming_distances(states_as_patterns_low, pattern_list_low, M, T_f, N)\n",
    "retrieved_patterns_low = study_retrieval(hamming_distances_low, M, c_f, init_id=0)"
   ]
  },
  {
   "cell_type": "code",
   "execution_count": null,
   "metadata": {},
   "outputs": [],
   "source": []
  }
 ],
 "metadata": {
  "kernelspec": {
   "display_name": "bmnn",
   "language": "python",
   "name": "python3"
  },
  "language_info": {
   "codemirror_mode": {
    "name": "ipython",
    "version": 3
   },
   "file_extension": ".py",
   "mimetype": "text/x-python",
   "name": "python",
   "nbconvert_exporter": "python",
   "pygments_lexer": "ipython3",
   "version": "3.9.6"
  },
  "orig_nbformat": 4
 },
 "nbformat": 4,
 "nbformat_minor": 2
}
