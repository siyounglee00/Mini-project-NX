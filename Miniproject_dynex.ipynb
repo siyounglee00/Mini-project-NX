{
 "cells": [
  {
   "cell_type": "markdown",
   "metadata": {},
   "source": [
    "# MiniProject 1: Storage capacity in biologically plausible Hopfield networks #"
   ]
  },
  {
   "cell_type": "markdown",
   "metadata": {},
   "source": [
    "## Introduction ##"
   ]
  },
  {
   "cell_type": "markdown",
   "metadata": {},
   "source": [
    "The Hopfield model is a standard model in computational neuroscience that models the storage of memory items, in the form of “patterns” of neuronal activity, in the recurrent connectivity of a neural network.\n",
    "\n",
    "The aim of this project is to investigate the robustness of memory retrieval in Hopfield networks with biologically plausible constraints. The lectures mostly covered standard Hopfield networks with balanced patterns and a symmetric weight matrix.\n",
    "\n",
    "However, in biological networks, neural activity is generally sparse with only a few neurons active at a time.\n",
    "\n",
    "Moreover, the symmetric connectivity of the standard Hopfield model is inconsistent with Dale’s law which states that the outgoing synapses from each neuron should be either excitatory or inhibitory; and it is very unlikely to find symmetric connectivity in the brain.\n",
    "\n",
    "To address these issues, we will generalise the Hopfield model to low-activity patterns and separated excitatory and inhibitory populations. We will first start with a classic symmetric Hopfield network, and investigate the capacity of this network in storing balanced random patterns, i.e. with 50% of active neurons in the network.\n",
    "\n",
    "In the second part, we will simulate a network with low-activity patterns. Finally, in the third section, we will separate the network into excitatory and inhibitory populations, and explore memory retrieval.\n",
    "\n",
    "Note: the project is intended to be solved using Python without the need for any specific library (other than the usual numpy and matplotlib). You are free to use other libraries if you want"
   ]
  },
  {
   "cell_type": "markdown",
   "metadata": {},
   "source": [
    "## Ex 0. Getting Started: Standard Hopfield Network ##"
   ]
  },
  {
   "cell_type": "markdown",
   "metadata": {},
   "source": [
    "To get started, we first consider the classical Hopfield model with balanced random patterns, consisting of $N$ fully connected, continuously-valued nodes $S_i(t) \\in [−1,\\, 1]$. The $M$ memory patterns $P^{\\mu} \\in \\{−1, 1\\}^{N}$ where each component is either +1 or −1 with probability $\\frac{1}{2}$, are stored in the network by the weight matrix given in the standard Hebbian form.\n",
    "\n",
    "$$\n",
    "W_{ij} = \\frac{1}{N} \\sum_{\\mu = 1}^M P^{\\mu}_i P^{\\mu}_j\n",
    "$$\n",
    "\n",
    "At each time step, the states update according to the rule:\n",
    "\n",
    "$$\n",
    "S_i(t + 1) = \\phi \\Biggl( \\sum_{j = 1}^N W_{ij} S_j(t) \\Biggr)\n",
    "$$\n",
    "\n",
    "where $\\phi(h) = \\tanh(\\beta h)$, and we use $\\beta = 4$"
   ]
  },
  {
   "cell_type": "markdown",
   "metadata": {},
   "source": [
    "## Ex 0.1 ##"
   ]
  },
  {
   "cell_type": "markdown",
   "metadata": {},
   "source": [
    "Write a method that generates binary balanced random patterns; and a method that computes the next state $S(t + 1)$ of the network, given the current state $S(t) = (S_1(t), . . . , S_N(t))$ and a set of patterns $P^1, ..., P^M$ according to eqs.(1)-(2)."
   ]
  },
  {
   "cell_type": "code",
   "execution_count": 1,
   "metadata": {},
   "outputs": [
    {
     "data": {
      "image/png": "[encoded data removed]",
      "text/plain": [
       "<Figure size 640x480 with 5 Axes>"
      ]
     },
     "metadata": {},
     "output_type": "display_data"
    }
   ],
   "source": [
    "%matplotlib inline\n",
    "from neurodynex3.hopfield_network import network, pattern_tools, plot_tools\n",
    "from helper_functions import generate_random_patterns, custom_function\n",
    "from matplotlib import pyplot as plt\n",
    "import numpy as np\n",
    "\n",
    "N = 100  # Number of neurons\n",
    "M = 5    # Number of patterns\n",
    "beta = 4 # The temperature\n",
    "\n",
    "hopfield_net, factory, pattern_list = generate_random_patterns(M,N)\n",
    "plot_tools.plot_pattern_list(pattern_list)\n",
    "\n",
    "hopfield_net.set_dynamics_to_user_function(custom_function(\"phi\", beta, N))"
   ]
  },
  {
   "cell_type": "markdown",
   "metadata": {},
   "source": [
    "## Ex 0.2 ##"
   ]
  },
  {
   "cell_type": "markdown",
   "metadata": {},
   "source": [
    "For a network with $N = 100$ neurons and $M = 5$ patterns, set the initial state close to the first pattern $P^1$.\n",
    "\n",
    "To do this, randomly flip a given percentage c = 5% of neurons in the pattern.\n",
    "\n",
    "Let the network evolve for 10-20 time steps until the network dynamics relax to a stable state.\n",
    "\n",
    "Check the overlaps of the final state with all the patterns. Did the network correctly retrieve the first pattern?"
   ]
  },
  {
   "cell_type": "code",
   "execution_count": 3,
   "metadata": {},
   "outputs": [
    {
     "name": "stdout",
     "output_type": "stream",
     "text": [
      "\n"
     ]
    },
    {
     "data": {
      "image/png": "[encoded data removed]",
      "text/plain": [
       "<Figure size 640x480 with 22 Axes>"
      ]
     },
     "metadata": {},
     "output_type": "display_data"
    },
    {
     "name": "stdout",
     "output_type": "stream",
     "text": [
      "With 10 steps, the network approximatively converged to the stored pattern.\n",
      "The overlap is 0.9984159274130612\n"
     ]
    }
   ],
   "source": [
    "from helper_functions import study_overlap, flip_and_iterate\n",
    "\n",
    "nr_steps = 10\n",
    "c = 0.05\n",
    "\n",
    "noisy_init_state, states, states_as_patterns = flip_and_iterate(hopfield_net, factory, pattern_list, int(c*N), nr_steps)\n",
    "plot_tools.plot_state_sequence_and_overlap(states_as_patterns, pattern_list, reference_idx=0, suptitle=\"Network dynamics\")\n",
    "\n",
    "overlap = study_overlap(states_as_patterns, pattern_list, nr_steps)"
   ]
  },
  {
   "cell_type": "markdown",
   "metadata": {},
   "source": [
    "## Ex 1. Storage capacity in the standard Hopfield network ##"
   ]
  },
  {
   "cell_type": "markdown",
   "metadata": {},
   "source": [
    "In this first part, we simulate the standard Hopfield network defined above and numerically estimate its\n",
    "storage capacity"
   ]
  },
  {
   "cell_type": "markdown",
   "metadata": {},
   "source": [
    "### Ex 1.1 ###"
   ]
  },
  {
   "cell_type": "markdown",
   "metadata": {},
   "source": [
    "Write a method that computes the next state $S(t + 1)$ of the network, given the current state $S(t)$, and a set of $M$ patterns $P^{\\mu}$.\n",
    "\n",
    "To do this, express the input to each neuron in terms of the M overlap variables $m^{\\mu}(t) = \\frac{1}{N} \\sum_{i} P^{\\mu}_i S_i(t)$:\n",
    "$$\n",
    "S_i(t+1) = \\phi \\Biggl( \\sum_{j = 1}^N W_{ij} S_j(t) \\Biggr) = \\phi \\Biggl( \\sum_{j = 1}^N \\biggl( \\frac{1}{N} \\sum_{\\mu = 1}^M P^{\\mu}_i P^{\\mu}_j \\biggr) S_j(t) \\Biggr) = \\phi \\Biggl( \\frac{1}{N} \\sum_{\\mu = 1}^M P^{\\mu}_i \\sum_{j = 1}^N P^{\\mu}_j S_j(t) \\Biggr) = \\phi \\Biggl( \\frac{1}{N} \\sum_{\\mu = 1}^M P^{\\mu}_i N \\cdot \\biggl( \\frac{1}{N} \\sum_{j = 1}^N P^{\\mu}_j S_j(t) \\biggr) \\Biggr)\n",
    "$$\n",
    "$$\n",
    "S_i(t+1) = \\phi \\Biggl( \\frac{1}{N} \\sum_{\\mu = 1}^M P^{\\mu}_i N \\cdot m^{\\mu}(t) \\Biggr) = \\phi \\Biggl( N \\cdot \\frac{1}{N} \\sum_{\\mu = 1}^M P^{\\mu}_i m^{\\mu}(t) \\Biggr) = \\phi \\Biggl( \\sum_{\\mu = 1}^M P^{\\mu}_i m^{\\mu}(t) \\Biggr)\n",
    "$$\n",
    "This reduces the computational cost by avoiding the matrix multiplication $\\sum_{j} W_{ij} \\cdot S_j(t)$ at each time step.\n",
    "\n",
    "What is the gain in the computational cost of a single update step?\n",
    "\n",
    "The activation function $\\phi(t)$ is computed using the _numpy_ library. Its computational complexity is considered of roughly $\\mathcal{O}(N)$.\n",
    "\n",
    "Multiplying the current state $S(t)$ of size $N \\times 1$ by the weight matrix $W_{ij}$ of size $N \\times N$ involves a computational cost of $\\mathcal{O}(N^2)$.\n",
    "\n",
    "The computational cost of the M overlap variables are of $\\mathcal{O}(N)$ as both $\\sum_{i}$ and $P^{\\mu}_i \\cdot S_i(t)$ involving one multiplication operation are of $\\mathcal{O}(N)$. The summation over all M patterns has a cost of $\\mathcal{O}(M)$. Although, computing M times $m^{\\mu}(t)$ with a cost of $\\mathcal{O}(N)$, implies a computational cost of $\\mathcal{O}(M \\cdot N)$ computing M times $m^{\\mu}(t)$.\n",
    "\n",
    "Therefore, as $M < N$ and in particular $M = 5$ and $N = 100$, the computational cost is reduced from $\\mathcal{O}(N^2)$ to $\\mathcal{O}(M \\cdot N)$."
   ]
  },
  {
   "cell_type": "code",
   "execution_count": 4,
   "metadata": {},
   "outputs": [],
   "source": [
    "def phi_function_opti(state_s0, pattern_list):\n",
    "    m_list = []\n",
    "    for pattern in pattern_list:\n",
    "        m_list.append((1/N) * np.sum(pattern * state_s0))\n",
    "    h = np.sum(pattern_list * m_list, axis=0)\n",
    "    state_s1 = np.tanh(beta * h)\n",
    "    return state_s1"
   ]
  },
  {
   "cell_type": "markdown",
   "metadata": {},
   "source": [
    "### Ex 1.2 ###"
   ]
  },
  {
   "cell_type": "markdown",
   "metadata": {},
   "source": [
    "Write a method that computes the distance between two given patterns. In our case, we will use\n",
    "the Hamming distance, defined as:\n",
    "$$\n",
    "D_{H}(P^{\\mu}, P^{\\nu}) = \\frac{N − P^{\\mu} \\cdot P^{\\nu}}{2N}\n",
    "$$\n",
    "What does this distance correspond to? What is the relationship with the overlap that we defined in the\n",
    "lectures?\n",
    "\n",
    "The Hamming distance as defined above, is a measure of similarity between two patterns $P^{\\mu}$ and $P^{\\nu}$. If the two patterns are equivalent, $P^{\\mu} = P^{\\nu}$, their Hamming distance is equal to 0. On the other hand, if they are totally different, their Hamming distance is equal to 1. For each neuron $i$, $P_i^{\\mu} \\cdot P_i^{\\nu} = \\{ +1$ if $P_i^{\\mu} = P_i^{\\nu}$ and $-1$ otherwise $\\}$. Indeed, the Hamming distance gives a percentage of the different neurons from a pattern to another. The overlap function is also a measure of similarity. In the course, the correlation $C^{\\mu, \\nu}$ measures the overlap as in $m^{\\mu}$, taking $P_i^{\\nu}$ instead of $S_i(t)$:\n",
    "$$\n",
    "C^{\\mu, \\nu} = \\frac{1}{N} \\sum_{i = 1}^N P_i^{\\mu} \\cdot P_i^{\\nu}\n",
    "$$\n",
    "The latter is related to the Hamming distance by:\n",
    "$$\n",
    "D_{H}(P^{\\mu}, P^{\\nu}) = \\frac{N − P^{\\mu} \\cdot P^{\\nu}}{2N} = \\frac{1}{2} \\Biggl( 1 - \\frac{1}{N} \\sum_{i = 1}^N P_i^{\\mu} \\cdot P_i^{\\nu} \\Biggr) = \\frac{1}{2} (1 - C^{\\mu, \\nu})\n",
    "$$"
   ]
  },
  {
   "cell_type": "code",
   "execution_count": 5,
   "metadata": {},
   "outputs": [],
   "source": [
    "def hamming_distance(pattern1, pattern2):\n",
    "    return (N-np.dot(pattern1.copy().flatten(), pattern2.copy().flatten()))/(2*N)"
   ]
  },
  {
   "cell_type": "markdown",
   "metadata": {},
   "source": [
    "### Ex 1.3 ###"
   ]
  },
  {
   "cell_type": "markdown",
   "metadata": {},
   "source": [
    "Create a Hopfield network with $N = 300$ neurons, in which $M = 5$ random patterns are stored.\n",
    "\n",
    "Run the network for $T = 20$ steps after setting as the initial state the first of the random patterns with 15 of its bits flipped.\n",
    "\n",
    "Plot the evolution of the Hamming distance between the network’s state $S(t)$ and each of the patterns $P^{\\mu}$.\n",
    "\n",
    "Was the first pattern retrieved correctly by the network?\n",
    "\n",
    "Note: We say that the network has correctly retrieved the pattern $P^{\\mu}$ if the last state $S(T)$ has a distance $D_H(P^{\\mu}, S(T)) \\le 0.05$.\n",
    "\n",
    "Pattern retrieval: We call a set of M patterns $\\{P^1, ..., P^M\\}$ stored in the network a dictionary.\n",
    "\n",
    "We define the error of pattern retrieval over a dictionary as:\n",
    "$$\n",
    "E = \\frac{1}{M} \\sum_{\\mu = 1}^M D_H(P^{\\mu}, S_f^{\\mu})\n",
    "$$\n",
    "where $S_f^{\\mu}$ is the final state of the network after convergence (you can use $T = 50$ iterations) if it was initialised close to pattern $P^{\\mu}$\n",
    ", i.e. with exactly 5% of its bits flipped.\n",
    "\n",
    "Similarly, the number of retrieved patterns in a dictionary is the number of patterns $P^{\\mu}$ in the dictionary such that $D_H(P^{\\mu}, S_f^{\\mu}) \\le 0.05$."
   ]
  },
  {
   "cell_type": "code",
   "execution_count": 6,
   "metadata": {},
   "outputs": [
    {
     "data": {
      "image/png": "[encoded data removed]",
      "text/plain": [
       "<Figure size 640x480 with 5 Axes>"
      ]
     },
     "metadata": {},
     "output_type": "display_data"
    },
    {
     "data": {
      "image/png": "[encoded data removed]",
      "text/plain": [
       "<Figure size 640x480 with 1 Axes>"
      ]
     },
     "metadata": {},
     "output_type": "display_data"
    },
    {
     "name": "stdout",
     "output_type": "stream",
     "text": [
      "\n"
     ]
    },
    {
     "data": {
      "image/png": "[encoded data removed]",
      "text/plain": [
       "<Figure size 640x480 with 42 Axes>"
      ]
     },
     "metadata": {},
     "output_type": "display_data"
    },
    {
     "name": "stdout",
     "output_type": "stream",
     "text": [
      "The pattern used to initialise the first state S(t=0) is P0.\n",
      "The network retrieved the pattern P0.\n"
     ]
    }
   ],
   "source": [
    "from helper_functions import compute_hamming_distances, plot_hamming_distances, study_retrieval, all_same_pattern, custom_flip_and_iterate\n",
    "\n",
    "N = 300       # Number of neurons\n",
    "M = 5         # Number of patterns\n",
    "beta = 4      # The temperature\n",
    "T = 20        # Number of steps\n",
    "nr_flips = 20 # Number of flips\n",
    "T_f = 50      # Number of steps for the final state\n",
    "c_f = 0.05    # The percentage of flipped bits for the final state\n",
    "nr_flips_f = int(c_f*N)\n",
    "\n",
    "hopfield_net, factory, pattern_list = generate_random_patterns(M,N)\n",
    "# pattern_list = all_same_pattern(pattern_list, M) # To set all patterns equal to P0\n",
    "plot_tools.plot_pattern_list(pattern_list)\n",
    "\n",
    "# hopfield_net.set_dynamics_to_user_function(custom_function(\"phi\", beta, N))\n",
    "# noisy_init_state, states, states_as_patterns = flip_and_iterate(hopfield_net, factory, pattern_list, nr_flips, T)\n",
    "noisy_init_pattern, states, states_as_patterns = custom_flip_and_iterate(factory, beta, N, nr_flips, T, pattern_list)\n",
    "\n",
    "# Plot the hamming distances\n",
    "hamming_distances = compute_hamming_distances(states_as_patterns, pattern_list, M, T, N)\n",
    "plot_hamming_distances(hamming_distances, M, T)\n",
    "\n",
    "plot_tools.plot_state_sequence_and_overlap(states_as_patterns, pattern_list, reference_idx=0, suptitle=\"Network dynamics\")\n",
    "noisy_init_pattern, states, states_as_patterns = custom_flip_and_iterate(factory, beta, N, nr_flips, T_f, pattern_list)\n",
    "hamming_distances = compute_hamming_distances(states_as_patterns, pattern_list, M, T_f, N)\n",
    "retrieved_patterns = study_retrieval(hamming_distances, M, c_f, init_id=0)"
   ]
  },
  {
   "cell_type": "markdown",
   "metadata": {},
   "source": [
    "### Ex 1.4 ###"
   ]
  },
  {
   "cell_type": "markdown",
   "metadata": {},
   "source": [
    "For a dictionary of size $M = 5$, what are the mean and standard deviation (std) of the error of pattern retrieval, and of the number of retrieved patterns? To compute them, iterate over $10-15$ different initialisations of the dictionary."
   ]
  },
  {
   "cell_type": "code",
   "execution_count": null,
   "metadata": {},
   "outputs": [],
   "source": [
    "from helper_functions import study_simple_retrieval\n",
    "\n",
    "nr_iterations = 15 # Number of iterations\n",
    "\n",
    "error_retrieval_list = []\n",
    "nr_retrieved_patterns_list = []\n",
    "\n",
    "hopfield_net, factory, pattern_list = generate_random_patterns(M,N)\n",
    "for i in range(nr_iterations):\n",
    "    retrieved_patterns = []\n",
    "    hamming_distances = []\n",
    "\n",
    "    for init_id in range(M):\n",
    "        noisy_init_pattern, state, state_as_pattern = custom_flip_and_iterate(factory, beta, N, nr_flips, T_f, pattern_list, init_pattern=init_id, only_last_state=True)\n",
    "        hamming_distance, init_id = study_simple_retrieval(state_as_pattern, pattern_list[init_id], init_id, N, c_f)\n",
    "        if init_id is not None:\n",
    "            retrieved_patterns.append(init_id)\n",
    "        hamming_distances.append(hamming_distance)\n",
    "    \n",
    "    error_retrieval_list.append(1/M * np.sum(np.array(hamming_distances), axis=0))\n",
    "    nr_retrieved_patterns_list.append(len(retrieved_patterns))\n",
    "\n",
    "# Compute the mean and the standard deviation of the error retrieval:\n",
    "mean_error_retrieval = np.mean(error_retrieval_list)\n",
    "std_error_retrieval = np.std(error_retrieval_list)\n",
    "mean_retrieved_patterns = np.mean(nr_retrieved_patterns_list)\n",
    "std_retrieved_patterns = np.std(nr_retrieved_patterns_list)\n",
    "print(\"Mean error retrieval: {}\".format(mean_error_retrieval))\n",
    "print(\"Standard deviation error retrieval: {}\".format(std_error_retrieval))\n",
    "print(\"Mean retrieved patterns: {}\".format(mean_retrieved_patterns))\n",
    "print(\"Standard deviation retrieved patterns: {}\".format(std_retrieved_patterns))"
   ]
  },
  {
   "cell_type": "markdown",
   "metadata": {},
   "source": [
    "### Ex 1.5 ###"
   ]
  },
  {
   "cell_type": "markdown",
   "metadata": {},
   "source": [
    "Repeat the previous question for dictionary sizes $M$ varying from $5$ to $80-100$. Plot the error of\n",
    "pattern retrieval and the number of retrieved patterns as a function of dictionary size. Use the standard\n",
    "deviations to get error bars."
   ]
  },
  {
   "cell_type": "code",
   "execution_count": null,
   "metadata": {},
   "outputs": [],
   "source": [
    "# A list of M values from 5 to 100 with a step of 5:\n",
    "M_values = np.arange(5, 101, 10)\n",
    "mean_error_retrieval_list = []\n",
    "std_error_retrieval_list = []\n",
    "mean_retrieved_patterns_list = []\n",
    "std_retrieved_patterns_list = []\n",
    "max_retrieved_patterns_list = {}\n",
    "\n",
    "for M in M_values:\n",
    "    nr_iterations = 15\n",
    "\n",
    "    error_retrieval_list = []\n",
    "    nr_retrieved_patterns_list = []\n",
    "\n",
    "    hopfield_net, factory, pattern_list = generate_random_patterns(M,N)\n",
    "    for i in range(nr_iterations):\n",
    "        retrieved_patterns = []\n",
    "        hamming_distances = []\n",
    "\n",
    "        for init_id in range(M):\n",
    "            noisy_init_pattern, state, state_as_pattern = custom_flip_and_iterate(factory, beta, N, nr_flips, T_f, pattern_list, init_pattern=init_id, only_last_state=True)\n",
    "            hamming_distance, init_id = study_simple_retrieval(state_as_pattern, pattern_list[init_id], init_id, N, c_f, silent=True)\n",
    "            if init_id is not None:\n",
    "                retrieved_patterns.append(init_id)\n",
    "            hamming_distances.append(hamming_distance)\n",
    "\n",
    "        error_retrieval_list.append(1/M * np.sum(np.array(hamming_distances), axis=0))\n",
    "        nr_retrieved_patterns_list.append(len(retrieved_patterns))\n",
    "    \n",
    "    mean_error_retrieval_list.append(np.mean(error_retrieval_list))\n",
    "    std_error_retrieval_list.append(np.std(error_retrieval_list))\n",
    "    mean_retrieved_patterns_list.append(np.mean(nr_retrieved_patterns_list))\n",
    "    std_retrieved_patterns_list.append(np.std(nr_retrieved_patterns_list))\n",
    "    max_retrieved_patterns_list[M] = np.amax(nr_retrieved_patterns_list)\n",
    "\n",
    "# A plot of the mean error retrieval as a function of M with error bars using the standard deviation:\n",
    "plt.errorbar(M_values, mean_error_retrieval_list, yerr=std_error_retrieval_list, fmt='o')\n",
    "plt.xlabel(\"Number of patterns M\")\n",
    "plt.ylabel(\"Mean error retrieval\")\n",
    "plt.title(\"Mean error retrieval as a function of M\")\n",
    "plt.show()\n",
    "plt.errorbar(M_values, mean_retrieved_patterns_list, yerr=std_retrieved_patterns_list, fmt='o')\n",
    "plt.xlabel(\"Number of patterns M\")\n",
    "plt.ylabel(\"Number of retrieved patterns\")\n",
    "plt.title(\"Number of retrieved patterns as a function of M\")\n",
    "plt.show()"
   ]
  },
  {
   "cell_type": "markdown",
   "metadata": {},
   "source": [
    "### Ex 1.6 - Attention questions théoriques!!! ###"
   ]
  },
  {
   "cell_type": "markdown",
   "metadata": {},
   "source": [
    "What is the maximal number of patterns $M_{max}$ that can be stored and retrieved in the network?\n",
    "\n",
    "Is it the maximum number of retrieved patterns value that can be read from the graph above?\n",
    "\n",
    "No, it would be almost impossible that every randomly generated pattern is equivalent to $P^0$.\n",
    "\n",
    "What happens to the retrieval error if the number of stored patterns increases beyond $M_{max}$? Why?\n",
    "$$\n",
    "E = \\frac{1}{M} \\Biggl( \\sum_{\\mu \\neq \\mu^{\\star}} D_H(P^{\\mu}, S_f^{\\mu}) + \\sum_{\\mu = \\mu^{\\star}} \\biggl( D_H(P^{\\mu^{\\star}}, S_f^{\\mu^{\\star}}) \\leq 0.05 \\biggr) \\Biggr)\n",
    "$$\n",
    "If all patterns are the same and retrieved. $D_H(P^{\\mu}, S_f^{\\mu}) \\leq 0.05 \\; \\forall \\mu$. Therefore;\n",
    "$$\n",
    "E = \\frac{1}{M} \\sum_{\\mu = i}^M \\biggl( D_H(P^{\\mu}, S_f^{\\mu}) \\leq 0.05 \\biggr) \\leq \\frac{1}{M} M \\cdot 0.05 \\leq 0.05\n",
    "$$\n",
    "\n",
    "Capacity and loading: We call the ratio $L = \\frac{M}{N}$ the _loading_ of the network; whereas the capacity of the network is defined as the ratio $C = \\frac{M_{max}}{N}$ of the maximum number of patterns that can be retrieved in average in a dictionary, divided by the number of neurons."
   ]
  },
  {
   "cell_type": "code",
   "execution_count": null,
   "metadata": {},
   "outputs": [],
   "source": [
    "M_max_th = N/(2*np.log(N))\n",
    "# The maximum value of all items in the dictionary max_retrieved_patterns_list\n",
    "M_max_exp = np.amax(list(max_retrieved_patterns_list.values()))\n",
    "# The M value corresponding to the maximum value of all items in the dictionary max_retrieved_patterns_list\n",
    "M_value = [key for key, value in max_retrieved_patterns_list.items() if value == M_max_exp][0]\n",
    "capacity = M_max_exp/N\n",
    "loading = M_value/N\n",
    "print(\"Theoretical maximum number of patterns: {}\".format(M_max_th))\n",
    "print(\"Experimental maximum number of patterns: {}\".format(M_max_exp))\n",
    "print(\"Capacity: {}\".format(capacity))\n",
    "print(\"Loading: {}\".format(loading))"
   ]
  },
  {
   "cell_type": "markdown",
   "metadata": {},
   "source": [
    "### Ex 1.7 ###"
   ]
  },
  {
   "cell_type": "markdown",
   "metadata": {},
   "source": [
    "For different network sizes $N$ from 50 to 800, plot the number of retrieved patterns per dictionary divided by $N$ as a function of the loading $L$.\n",
    "\n",
    "How does the capacity depend on the network size? Is this what you would expect?\n",
    "\n",
    "Hint: select a range of $4-5$ loadings $L = \\frac{M}{N}$ close to the capacity you found for $N = 300$.\n",
    "\n",
    "For each network size $N$ and loading $L$, compute the mean and std of the number of retrieved patterns across $5-10$ initialisations of the dictionary to get a plot (with the errorbars).\n",
    "\n",
    "The capacity corresponds to the average number of retrieved patterns $M_{max}$ that you obtain for an optimal loading $L$, divided by $N$."
   ]
  },
  {
   "cell_type": "code",
   "execution_count": null,
   "metadata": {},
   "outputs": [],
   "source": [
    "N_values = np.arange(50, 801, 50)\n",
    "# The capacity found for N = 300\n",
    "previous_capacity = capacity.copy()\n",
    "retrieved_patterns_list = []\n",
    "capacities = []\n",
    "\n",
    "for N in N_values:\n",
    "    print(\"Computing capacity for N = {}...\".format(N))\n",
    "    # M values are in a range of 5 values of M such that M/N is smaller than the capacity + c_f and M/N is larger than the capacity - c_f\n",
    "    M_values = np.arange(int((previous_capacity - c_f) * N), int((previous_capacity + c_f) * N), int((2*c_f) * N / 5))\n",
    "\n",
    "    for M in M_values:\n",
    "        nr_iterations = 10\n",
    "\n",
    "        nr_retrieved_patterns_list = []\n",
    "\n",
    "        hopfield_net, factory, pattern_list = generate_random_patterns(M,N)\n",
    "        for i in range(nr_iterations):\n",
    "            retrieved_patterns = []\n",
    "            hamming_distances = []\n",
    "\n",
    "            for init_id in range(M):\n",
    "                noisy_init_pattern, state, state_as_pattern = custom_flip_and_iterate(factory, beta, N, nr_flips, T_f, pattern_list, init_pattern=init_id, only_last_state=True)\n",
    "                hamming_distance, init_id = study_simple_retrieval(state_as_pattern, pattern_list[init_id], init_id, N, c_f, silent=True)\n",
    "                if init_id is not None:\n",
    "                    retrieved_patterns.append(init_id)\n",
    "                hamming_distances.append(hamming_distance)\n",
    "\n",
    "            error_retrieval_list.append(1/M * np.sum(np.array(hamming_distances), axis=0))\n",
    "            nr_retrieved_patterns_list.append(len(retrieved_patterns))\n",
    "\n",
    "        mean_retrieved_patterns_list.append(np.mean(nr_retrieved_patterns_list))\n",
    "        std_retrieved_patterns_list.append(np.std(nr_retrieved_patterns_list))\n",
    "    \n",
    "    capacities.append(np.amax(mean_retrieved_patterns_list)/N)\n",
    "\n",
    "# A plot of the capacity as a function of N:\n",
    "plt.figure()\n",
    "plt.plot(N_values, capacities)\n",
    "plt.xlabel(\"Number of neurons N\")\n",
    "plt.ylabel(\"Capacity\")\n",
    "plt.title(\"Capacity as a function of N\")\n",
    "plt.show()"
   ]
  },
  {
   "cell_type": "markdown",
   "metadata": {},
   "source": [
    "### Ex 1.8 ###"
   ]
  },
  {
   "cell_type": "markdown",
   "metadata": {},
   "source": [
    "How does the inverse temperature $\\beta$ in eq.(2) affect the network capacity?"
   ]
  },
  {
   "cell_type": "code",
   "execution_count": null,
   "metadata": {},
   "outputs": [],
   "source": [
    "# Make an array of beta values from 0 to 10 with a step of 1\n",
    "beta_list = np.arange(0, 11, 1)\n",
    "# Take the number of neurons N = 300\n",
    "N = 300\n",
    "capacities = []\n",
    "\n",
    "for beta in beta_list:\n",
    "    print(\"Computing capacity for beta = {}...\".format(beta))\n",
    "    # M values are in a range of 5 values of M such that M/N is smaller than the capacity + c_f and M/N is larger than the capacity - c_f\n",
    "    M_values = np.arange(int((previous_capacity - c_f) * N), int((previous_capacity + c_f) * N), int((2*c_f) * N / 5))\n",
    "\n",
    "    for M in M_values:\n",
    "        nr_iterations = 10\n",
    "\n",
    "        nr_retrieved_patterns_list = []\n",
    "\n",
    "        hopfield_net, factory, pattern_list = generate_random_patterns(M,N)\n",
    "        for i in range(nr_iterations):\n",
    "            retrieved_patterns = []\n",
    "            hamming_distances = []\n",
    "\n",
    "            for init_id in range(M):\n",
    "                noisy_init_pattern, state, state_as_pattern = custom_flip_and_iterate(factory, beta, N, nr_flips, T_f, pattern_list, init_pattern=init_id, only_last_state=True)\n",
    "                hamming_distance, init_id = study_simple_retrieval(state_as_pattern, pattern_list[init_id], init_id, N, c_f, silent=True)\n",
    "                if init_id is not None:\n",
    "                    retrieved_patterns.append(init_id)\n",
    "                hamming_distances.append(hamming_distance)\n",
    "\n",
    "            error_retrieval_list.append(1/M * np.sum(np.array(hamming_distances), axis=0))\n",
    "            nr_retrieved_patterns_list.append(len(retrieved_patterns))\n",
    "\n",
    "        mean_retrieved_patterns_list.append(np.mean(nr_retrieved_patterns_list))\n",
    "        std_retrieved_patterns_list.append(np.std(nr_retrieved_patterns_list))\n",
    "\n",
    "    capacities.append(np.amax(mean_retrieved_patterns_list)/N)\n",
    "\n",
    "# A plot of the capacity as a function of beta:\n",
    "plt.figure()\n",
    "plt.plot(beta_list, capacities)\n",
    "plt.xlabel(\"Inverse temperature beta\")\n",
    "plt.ylabel(\"Capacity\")\n",
    "plt.title(\"Capacity as a function of N\")\n",
    "plt.show()"
   ]
  },
  {
   "cell_type": "markdown",
   "metadata": {},
   "source": [
    "## Ex 2. Low-activity patterns ##"
   ]
  },
  {
   "cell_type": "markdown",
   "metadata": {},
   "source": [
    "We now study the capacity of a Hopfield network with stochastic binary neurons and low-activity patterns. This model is proposed in the paper by [Tsodyks and Feigel’man (1988)] and discussed briefly in Chapter 17.2.6 of the book Neuronal Dynamics.\n",
    "Given a neuron’s continuous state $S_i(t) \\in [−1,\\, 1]$, we define the binary, stochastic spike variable $\\sigma_i(t) \\in \\{0, 1\\}$ as:"
   ]
  },
  {
   "cell_type": "markdown",
   "metadata": {},
   "source": [
    "$$P\\{ \\sigma_i(t) = +1 \\, | \\, S_i(t) \\} = \\frac{1}{2}(S_i(t) + 1)$$"
   ]
  },
  {
   "cell_type": "markdown",
   "metadata": {},
   "source": [
    "Where $\\sigma_i = 1$ can be interpreted as a spike and $\\sigma_i = 0$ as the quiescent state of the neuron. The states\n",
    "update according to:"
   ]
  },
  {
   "cell_type": "markdown",
   "metadata": {},
   "source": [
    "$$S_i(t + 1) = \\phi \\Biggl( \\sum_{j = 1}^N w_{ij} \\sigma_j(t) - \\theta\\Biggr)$$"
   ]
  },
  {
   "cell_type": "markdown",
   "metadata": {},
   "source": [
    "Where the constant $\\theta$ is the neuronal “firing threshold”. Synaptic weights are set according to:"
   ]
  },
  {
   "cell_type": "markdown",
   "metadata": {},
   "source": [
    "$$w_{ij} = \\frac{c}{N} \\sum_{\\mu = 1}^M (\\xi_i^\\mu - b)(\\xi_j^\\mu - a)$$"
   ]
  },
  {
   "cell_type": "markdown",
   "metadata": {},
   "source": [
    "where $c = \\frac{2}{{a(1-a)}}$, and a,b are constants in the [0, 1] interval. Here, each component $\\xi_j^\\mu\\in \\{0, 1\\}$ in the patterns has a probability a of being 1, which is termed the activity or sparseness. Therefore, a represents the mean activity of the patterns.\n"
   ]
  },
  {
   "cell_type": "markdown",
   "metadata": {},
   "source": [
    "### Ex 2.1 ###"
   ]
  },
  {
   "cell_type": "markdown",
   "metadata": {},
   "source": [
    "For which values of the constants a, b, and $\\theta$ is this model approximately equivalent to the standard Hopfield model in the previous section? Under which condition on the distribution of the patterns is it exactly equivalent (upon averaging over the stochastic update of eq.(5))?\n",
    "Hint: write down and compare the average input to the neurons in both models."
   ]
  },
  {
   "cell_type": "markdown",
   "metadata": {},
   "source": [
    "Let $p_i^\\mu = 2\\xi_i^\\mu - 1$. Then, "
   ]
  },
  {
   "cell_type": "markdown",
   "metadata": {},
   "source": [
    "$$w_{ij} = \\frac{1}{N}\\sum_{\\mu = 1}^M p_i^\\mu p_j^\\mu = \\frac{1}{N}\\sum_{\\mu = 1}^M (2\\xi_i^\\mu - 1) (2\\xi_j^\\mu - 1) = \\frac{4}{N}\\sum_{\\mu = 1}^M (\\xi_i^\\mu - \\frac{1}{2}) (\\xi_j^\\mu - \\frac{1}{2})"
   ]
  },
  {
   "cell_type": "markdown",
   "metadata": {},
   "source": [
    "Which shows that in order have an equivalence to the standard model, we need $a=b=\\frac{1}{2}$. In order to find $\\theta$, we use $\\sigma_i(t) = \\frac{1}{2}(S_i(t)+1)$."
   ]
  },
  {
   "cell_type": "markdown",
   "metadata": {},
   "source": [
    "$$S_i(t + 1) = \\phi \\Biggl( \\sum_{j = 1}^N w_{ij} S_j(t) \\Biggr) = \\phi \\Biggl( \\sum_{j = 1}^N w_{ij} (2\\sigma_j(t) - 1) \\Biggr) = \\phi \\Biggl( \\sum_{j = 1}^N \\tilde{W}_{ij} \\sigma_j(t) - \\sum_{j = 1}^N w_{ij}\\Biggr)$$\n"
   ]
  },
  {
   "cell_type": "markdown",
   "metadata": {},
   "source": [
    "with $\\theta = \\sum_{j = 1}^N w_{ij}$ and $\\tilde{W}_{ij} = 2w_{ij}\\sigma_j$ to have an equilvalence to the standard model. "
   ]
  },
  {
   "cell_type": "markdown",
   "metadata": {},
   "source": [
    "If $<\\xi_i^\\mu> = a$, $<\\sum_{j = 1}^N w_{ij}> = <\\sum_{j = 1}^N \\frac{c}{N}\\sum_{\\mu = 1}^M (\\xi_i^\\mu - b) (\\xi_j^\\mu - a)> = 0$"
   ]
  },
  {
   "cell_type": "markdown",
   "metadata": {},
   "source": [
    "Therefore, $\\theta = 0$. "
   ]
  },
  {
   "cell_type": "markdown",
   "metadata": {},
   "source": [
    "### Ex 2.2 ###"
   ]
  },
  {
   "cell_type": "markdown",
   "metadata": {},
   "source": [
    "Write methods for generating random patterns $\\xi^\\mu\\in \\{0, 1\\}^N$ with activity (i.e. average number of\n",
    "(+1)’s) a, for computing the Hamming distance between new patterns $\\xi^\\mu$ and new state variables $\\sigma$, and\n",
    "for simulating the new model above."
   ]
  },
  {
   "cell_type": "markdown",
   "metadata": {},
   "source": [
    "First, we generate random patterns using activity a, the average number of (+1)'s, which can also be interpreted as the fraction of +1 in the pattern (since the two values of the pattern are 0 and 1). "
   ]
  },
  {
   "cell_type": "code",
   "execution_count": 106,
   "metadata": {},
   "outputs": [
    {
     "data": {
      "text/plain": [
       "<module 'helper_functions' from '/Users/sisi/Desktop/Neuronal Dynamics/Mini-project-NX/helper_functions.py'>"
      ]
     },
     "execution_count": 106,
     "metadata": {},
     "output_type": "execute_result"
    }
   ],
   "source": [
    "# just to reload helper_functions when needed\n",
    "from importlib import reload\n",
    "import helper_functions\n",
    "reload(helper_functions)"
   ]
  },
  {
   "cell_type": "code",
   "execution_count": 88,
   "metadata": {},
   "outputs": [
    {
     "data": {
      "image/png": "[encoded data removed]",
      "text/plain": [
       "<Figure size 640x480 with 5 Axes>"
      ]
     },
     "metadata": {},
     "output_type": "display_data"
    }
   ],
   "source": [
    "from neurodynex3.hopfield_network import plot_tools\n",
    "from helper_functions import generate_random_patterns_low_activity, custom_function_low, standard_teta\n",
    "import numpy as np\n",
    "\n",
    "N = 100  # Number of neurons\n",
    "M = 5    # Number of patterns\n",
    "beta = 4 # The temperature\n",
    "a = 0.5  # The activity level\n",
    "b = 0.5\n",
    "\n",
    "hopfield_net_low, pattern_list_low, shape = generate_random_patterns_low_activity(M,N,a,b)\n",
    "plot_tools.plot_pattern_list(pattern_list_low)\n",
    "# calculate expectation of the sum of the weights \n",
    "#teta = standard_teta(hopfield_net_low.weights)\n",
    "teta = 0.0\n",
    "\n",
    "hopfield_net_low.set_dynamics_to_user_function(custom_function_low(\"phi\", beta, teta, a,b, N))"
   ]
  },
  {
   "cell_type": "code",
   "execution_count": 89,
   "metadata": {},
   "outputs": [],
   "source": [
    "from helper_functions import compute_overlap_low\n",
    "\n",
    "nr_steps = 10\n",
    "c = 0.05\n",
    "# test\n",
    "#print(pattern_list_low[0])\n",
    "# compute_overlap_low(pattern_list_low[0], pattern_list_low[1], a)"
   ]
  },
  {
   "cell_type": "code",
   "execution_count": 107,
   "metadata": {},
   "outputs": [
    {
     "name": "stdout",
     "output_type": "stream",
     "text": [
      "\n"
     ]
    },
    {
     "data": {
      "image/png": "[encoded data removed]",
      "text/plain": [
       "<Figure size 640x480 with 22 Axes>"
      ]
     },
     "metadata": {},
     "output_type": "display_data"
    },
    {
     "name": "stdout",
     "output_type": "stream",
     "text": [
      "With 10 steps, the network did not converge to the stored pattern.\n",
      "The overlap is 1.92\n"
     ]
    }
   ],
   "source": [
    "from helper_functions import study_overlap_low_activity, custom_flip_and_iterate_low, plot_state_sequence_and_overlap_low\n",
    "\n",
    "noisy_init_state_low, states_low, states_as_patterns_low = custom_flip_and_iterate_low(shape, beta, teta, a, b, N, int(c*N), nr_steps, pattern_list_low, weights=hopfield_net_low.weights, function_name=\"phi\")\n",
    "plot_state_sequence_and_overlap_low(states_as_patterns_low, pattern_list_low, a, b, reference_idx=0, suptitle=\"Network dynamics\")\n",
    "\n",
    "overlap = study_overlap_low_activity(states_as_patterns_low, pattern_list_low, nr_steps, a)"
   ]
  },
  {
   "cell_type": "markdown",
   "metadata": {},
   "source": [
    "In this case, the overlap is computed as:\n",
    "$$\n",
    "m^{\\mu} = \\frac{c}{N} \\sum_{j = 1}^N (\\xi_j^{\\mu} - a) \\sigma_j\n",
    "$$\n",
    "Where $\\sigma_j \\in \\{ 0, 1 \\} \\forall j$, $\\xi_j^{\\mu} \\forall j,\\mu$, $a = 0.5$, $c = \\frac{2}{a(1-a)} = 8$, and $N = 100$.\n",
    "Therefore, one can compute $m^{\\mu}_{min}$ and $m^{\\mu}_{max}$:\n",
    "$$\n",
    "m^{\\mu}_{min} = \\frac{8}{100} \\sum_{j = 1}^{100} (0 - 0.5) \\cdot 0.5 = -2, \\qquad m^{\\mu}_{max} = \\frac{8}{100} \\sum_{j = 1}^{100} (1 - 0.5) \\cdot 0.5 = 2\n",
    "$$\n",
    "And indeed, the obtained overlap lays in the theoretical interval ($m^{\\mu} \\in \\left[ m^{\\mu}_{min}, m^{\\mu}_{max} \\right] \\forall \\mu$)."
   ]
  },
  {
   "cell_type": "markdown",
   "metadata": {},
   "source": [
    "Also, we can rewrite the expression of $S(t+1)$ using the overlap $m^{\\mu}$:"
   ]
  },
  {
   "cell_type": "markdown",
   "metadata": {},
   "source": [
    "$$S_i(t + 1) = \\phi \\Biggl( \\sum_{j = 1}^N w_{ij} \\sigma_j(t) - \\theta \\Biggr) = \\phi \\Biggl( \\sum_{j = 1}^N  \\frac{c}{N}\\sum_{\\mu = 1}^M (\\xi_i^\\mu - b) (\\xi_j^\\mu - a) \\sigma_j(t) - \\theta \\Biggr) = \\phi \\Biggl( \\sum_{\\mu = 1}^M m_{\\mu}(\\xi_i^\\mu - b)  - \\theta \\Biggr)$$"
   ]
  },
  {
   "cell_type": "code",
   "execution_count": 154,
   "metadata": {},
   "outputs": [
    {
     "data": {
      "text/plain": [
       "<module 'helper_functions' from '/Users/sisi/Desktop/Neuronal Dynamics/Mini-project-NX/helper_functions.py'>"
      ]
     },
     "execution_count": 154,
     "metadata": {},
     "output_type": "execute_result"
    }
   ],
   "source": [
    "# just to reload helper_functions when needed\n",
    "from importlib import reload\n",
    "import helper_functions\n",
    "reload(helper_functions)"
   ]
  },
  {
   "cell_type": "code",
   "execution_count": 155,
   "metadata": {},
   "outputs": [
    {
     "name": "stdout",
     "output_type": "stream",
     "text": [
      "\n"
     ]
    },
    {
     "data": {
      "image/png": "[encoded data removed]",
      "text/plain": [
       "<Figure size 640x480 with 42 Axes>"
      ]
     },
     "metadata": {},
     "output_type": "display_data"
    },
    {
     "name": "stdout",
     "output_type": "stream",
     "text": [
      "The pattern used to initialise the first state S(t=0) is P0.\n",
      "The network retrieved the pattern P0.\n"
     ]
    }
   ],
   "source": [
    "from helper_functions import compute_hamming_distances_low, study_retrieval, all_same_pattern, custom_flip_and_iterate_low, plot_state_sequence_and_overlap_low\n",
    "\n",
    "N = 100       # Number of neurons\n",
    "M = 5         # Number of patterns\n",
    "beta = 4      # The temperature\n",
    "T = 20        # Number of steps\n",
    "nr_flips = 1 # Number of flips\n",
    "T_f = 50      # Number of steps for the final state\n",
    "c_f = 0.05    # The percentage of flipped bits for the final state\n",
    "nr_flips_f = int(c_f*N)\n",
    "\n",
    "# hopfield_net.set_dynamics_to_user_function(custom_function(\"phi\", beta, N))\n",
    "# noisy_init_state, states, states_as_patterns = flip_and_iterate(hopfield_net, factory, pattern_list, nr_flips, T)\n",
    "#def custom_flip_and_iterate_low(factory, beta, teta, a, N, nr_of_flips, nr_steps, pattern_list, init_pattern=0, only_last_state=False, function_name=\"phi_opti\", weights=None):\n",
    "hopfield_net_low, pattern_list_low, shape = generate_random_patterns_low_activity(M,N,a,b)\n",
    "noisy_init_pattern_low, states_low, states_as_patterns_low = custom_flip_and_iterate_low(shape, beta, teta, a, b, N, nr_flips, T, pattern_list_low)\n",
    "\n",
    "# Plot the hamming distances\n",
    "#hamming_distances = compute_hamming_distances(states_as_patterns_low, pattern_list_low, M, T, N)\n",
    "# pattern_list_low\n",
    "#plot_hamming_distances(hamming_distances, M, T)\n",
    "\n",
    "plot_state_sequence_and_overlap_low(states_as_patterns_low, pattern_list_low, a, b, reference_idx=0, suptitle=\"Network dynamics\")\n",
    "noisy_init_pattern_low, states_low, states_as_patterns_low = custom_flip_and_iterate_low(shape, beta, teta, a, b, N, nr_flips, T_f, pattern_list_low, function_name= \"phi_opti\" )\n",
    "hamming_distances_low = compute_hamming_distances_low(states_as_patterns_low, pattern_list_low, M, T_f, N)\n",
    "retrieved_patterns_low = study_retrieval(hamming_distances_low, M, c_f, init_id=0)"
   ]
  },
  {
   "cell_type": "markdown",
   "metadata": {},
   "source": [
    "### Ex 2.3 ###"
   ]
  },
  {
   "cell_type": "markdown",
   "metadata": {},
   "source": [
    "Using the parameters $a,b, \\theta$ that you found in question 2.1, compute the capacity of the network for N = 300. \n",
    "Is it the same as what you found in the previous section? If not, what you think is the origin of discrepancy?"
   ]
  },
  {
   "cell_type": "code",
   "execution_count": 156,
   "metadata": {},
   "outputs": [
    {
     "name": "stdout",
     "output_type": "stream",
     "text": [
      "The network correctly retrieved the initial pattern P0.\n",
      "The hamming distance is 0.0.\n",
      "The network correctly retrieved the initial pattern P1.\n",
      "The hamming distance is 0.01.\n",
      "The network correctly retrieved the initial pattern P2.\n",
      "The hamming distance is 0.0.\n",
      "The network correctly retrieved the initial pattern P3.\n",
      "The hamming distance is 0.0.\n",
      "The network correctly retrieved the initial pattern P4.\n",
      "The hamming distance is 0.0.\n",
      "The network correctly retrieved the initial pattern P0.\n",
      "The hamming distance is 0.0.\n",
      "The network correctly retrieved the initial pattern P1.\n",
      "The hamming distance is 0.0.\n",
      "The network correctly retrieved the initial pattern P2.\n",
      "The hamming distance is 0.01.\n",
      "The network correctly retrieved the initial pattern P3.\n",
      "The hamming distance is 0.0.\n",
      "The network correctly retrieved the initial pattern P4.\n",
      "The hamming distance is 0.0.\n",
      "The network correctly retrieved the initial pattern P0.\n",
      "The hamming distance is 0.0.\n",
      "The network correctly retrieved the initial pattern P1.\n",
      "The hamming distance is 0.0.\n",
      "The network correctly retrieved the initial pattern P2.\n",
      "The hamming distance is 0.0.\n",
      "The network correctly retrieved the initial pattern P3.\n",
      "The hamming distance is 0.0.\n",
      "The network correctly retrieved the initial pattern P4.\n",
      "The hamming distance is 0.0.\n",
      "The network correctly retrieved the initial pattern P0.\n",
      "The hamming distance is 0.0.\n",
      "The network correctly retrieved the initial pattern P1.\n",
      "The hamming distance is 0.0.\n",
      "The network correctly retrieved the initial pattern P2.\n",
      "The hamming distance is 0.0.\n",
      "The network correctly retrieved the initial pattern P3.\n",
      "The hamming distance is 0.0.\n",
      "The network correctly retrieved the initial pattern P4.\n",
      "The hamming distance is 0.0.\n",
      "The network correctly retrieved the initial pattern P0.\n",
      "The hamming distance is 0.01.\n",
      "The network correctly retrieved the initial pattern P1.\n",
      "The hamming distance is 0.0.\n",
      "The network correctly retrieved the initial pattern P2.\n",
      "The hamming distance is 0.0.\n",
      "The network correctly retrieved the initial pattern P3.\n",
      "The hamming distance is 0.0.\n",
      "The network correctly retrieved the initial pattern P4.\n",
      "The hamming distance is 0.0.\n",
      "The network correctly retrieved the initial pattern P0.\n",
      "The hamming distance is 0.0.\n",
      "The network correctly retrieved the initial pattern P1.\n",
      "The hamming distance is 0.01.\n",
      "The network correctly retrieved the initial pattern P2.\n",
      "The hamming distance is 0.0.\n",
      "The network correctly retrieved the initial pattern P3.\n",
      "The hamming distance is 0.0.\n",
      "The network correctly retrieved the initial pattern P4.\n",
      "The hamming distance is 0.0.\n",
      "The network correctly retrieved the initial pattern P0.\n",
      "The hamming distance is 0.0.\n",
      "The network correctly retrieved the initial pattern P1.\n",
      "The hamming distance is 0.0.\n",
      "The network correctly retrieved the initial pattern P2.\n",
      "The hamming distance is 0.0.\n",
      "The network correctly retrieved the initial pattern P3.\n",
      "The hamming distance is 0.0.\n",
      "The network correctly retrieved the initial pattern P4.\n",
      "The hamming distance is 0.0.\n",
      "The network correctly retrieved the initial pattern P0.\n",
      "The hamming distance is 0.0.\n",
      "The network correctly retrieved the initial pattern P1.\n",
      "The hamming distance is 0.0.\n",
      "The network correctly retrieved the initial pattern P2.\n",
      "The hamming distance is 0.0.\n",
      "The network correctly retrieved the initial pattern P3.\n",
      "The hamming distance is 0.0.\n",
      "The network correctly retrieved the initial pattern P4.\n",
      "The hamming distance is 0.0.\n",
      "The network correctly retrieved the initial pattern P0.\n",
      "The hamming distance is 0.0.\n",
      "The network correctly retrieved the initial pattern P1.\n",
      "The hamming distance is 0.01.\n",
      "The network correctly retrieved the initial pattern P2.\n",
      "The hamming distance is 0.0.\n",
      "The network correctly retrieved the initial pattern P3.\n",
      "The hamming distance is 0.0.\n",
      "The network correctly retrieved the initial pattern P4.\n",
      "The hamming distance is 0.0.\n",
      "The network correctly retrieved the initial pattern P0.\n",
      "The hamming distance is 0.0.\n",
      "The network correctly retrieved the initial pattern P1.\n",
      "The hamming distance is 0.0.\n",
      "The network correctly retrieved the initial pattern P2.\n",
      "The hamming distance is 0.0.\n",
      "The network correctly retrieved the initial pattern P3.\n",
      "The hamming distance is 0.0.\n",
      "The network correctly retrieved the initial pattern P4.\n",
      "The hamming distance is 0.01.\n",
      "The network correctly retrieved the initial pattern P0.\n",
      "The hamming distance is 0.0.\n",
      "The network correctly retrieved the initial pattern P1.\n",
      "The hamming distance is 0.0.\n",
      "The network correctly retrieved the initial pattern P2.\n",
      "The hamming distance is 0.0.\n",
      "The network correctly retrieved the initial pattern P3.\n",
      "The hamming distance is 0.0.\n",
      "The network correctly retrieved the initial pattern P4.\n",
      "The hamming distance is 0.0.\n",
      "The network correctly retrieved the initial pattern P0.\n",
      "The hamming distance is 0.0.\n",
      "The network correctly retrieved the initial pattern P1.\n",
      "The hamming distance is 0.02.\n",
      "The network correctly retrieved the initial pattern P2.\n",
      "The hamming distance is 0.0.\n",
      "The network correctly retrieved the initial pattern P3.\n",
      "The hamming distance is 0.0.\n",
      "The network correctly retrieved the initial pattern P4.\n",
      "The hamming distance is 0.0.\n",
      "The network correctly retrieved the initial pattern P0.\n",
      "The hamming distance is 0.0.\n",
      "The network correctly retrieved the initial pattern P1.\n",
      "The hamming distance is 0.01.\n",
      "The network correctly retrieved the initial pattern P2.\n",
      "The hamming distance is 0.0.\n",
      "The network correctly retrieved the initial pattern P3.\n",
      "The hamming distance is 0.0.\n",
      "The network correctly retrieved the initial pattern P4.\n",
      "The hamming distance is 0.0.\n",
      "The network correctly retrieved the initial pattern P0.\n",
      "The hamming distance is 0.0.\n",
      "The network correctly retrieved the initial pattern P1.\n",
      "The hamming distance is 0.0.\n",
      "The network correctly retrieved the initial pattern P2.\n",
      "The hamming distance is 0.01.\n",
      "The network correctly retrieved the initial pattern P3.\n",
      "The hamming distance is 0.0.\n",
      "The network correctly retrieved the initial pattern P4.\n",
      "The hamming distance is 0.0.\n",
      "The network correctly retrieved the initial pattern P0.\n",
      "The hamming distance is 0.0.\n",
      "The network correctly retrieved the initial pattern P1.\n",
      "The hamming distance is 0.0.\n",
      "The network correctly retrieved the initial pattern P2.\n",
      "The hamming distance is 0.01.\n",
      "The network correctly retrieved the initial pattern P3.\n",
      "The hamming distance is 0.01.\n",
      "The network correctly retrieved the initial pattern P4.\n",
      "The hamming distance is 0.0.\n",
      "Mean error retrieval: 0.0016000000000000003\n",
      "Standard deviation error retrieval: 0.0013063945294843615\n",
      "Mean retrieved patterns: 5.0\n",
      "Standard deviation retrieved patterns: 0.0\n"
     ]
    }
   ],
   "source": [
    "from helper_functions import study_simple_retrieval_low, generate_random_patterns_low_activity\n",
    "\n",
    "N = 100\n",
    "a = 0.5\n",
    "b = 0.5\n",
    "M = 5\n",
    "nr_iterations = 15 # Number of iterations\n",
    "\n",
    "error_retrieval_list = []\n",
    "nr_retrieved_patterns_list = []\n",
    "\n",
    "hopfield_net_low, pattern_list_low, shape = generate_random_patterns_low_activity(M,N,a,b)\n",
    "\n",
    "for i in range(nr_iterations):\n",
    "    retrieved_patterns = []\n",
    "    hamming_distances = []\n",
    "\n",
    "    for init_id in range(M):\n",
    "        noisy_init_pattern, state, state_as_pattern = custom_flip_and_iterate_low(shape, beta, teta, a, b, N, nr_flips, T_f, pattern_list_low, init_pattern=init_id, only_last_state=True)\n",
    "        hamming_distance, init_id = study_simple_retrieval_low(state_as_pattern, pattern_list_low[init_id], init_id, N, c_f)\n",
    "        if init_id is not None:\n",
    "            retrieved_patterns.append(init_id)\n",
    "        hamming_distances.append(hamming_distance)\n",
    "    \n",
    "    error_retrieval_list.append(1/M * np.sum(np.array(hamming_distances), axis=0))\n",
    "    nr_retrieved_patterns_list.append(len(retrieved_patterns))\n",
    "\n",
    "# Compute the mean and the standard deviation of the error retrieval:\n",
    "mean_error_retrieval = np.mean(error_retrieval_list)\n",
    "std_error_retrieval = np.std(error_retrieval_list)\n",
    "mean_retrieved_patterns = np.mean(nr_retrieved_patterns_list)\n",
    "std_retrieved_patterns = np.std(nr_retrieved_patterns_list)\n",
    "print(\"Mean error retrieval: {}\".format(mean_error_retrieval))\n",
    "print(\"Standard deviation error retrieval: {}\".format(std_error_retrieval))\n",
    "print(\"Mean retrieved patterns: {}\".format(mean_retrieved_patterns))\n",
    "print(\"Standard deviation retrieved patterns: {}\".format(std_retrieved_patterns))"
   ]
  },
  {
   "cell_type": "code",
   "execution_count": 157,
   "metadata": {},
   "outputs": [],
   "source": [
    "from helper_functions import study_simple_retrieval\n",
    "\n",
    "# A list of M values from 5 to 100 with a step of 5:\n",
    "M_values = np.arange(5, 101, 10)\n",
    "N = 100\n",
    "a = 0.5\n",
    "b = 0.5\n",
    "\n",
    "mean_error_retrieval_list = []\n",
    "std_error_retrieval_list = []\n",
    "mean_retrieved_patterns_list = []\n",
    "std_retrieved_patterns_list = []\n",
    "max_retrieved_patterns_list = {}\n",
    "\n",
    "for M in M_values:\n",
    "    nr_iterations = 5\n",
    "\n",
    "    error_retrieval_list = []\n",
    "    nr_retrieved_patterns_list = []\n",
    "\n",
    "    hopfield_net_low, pattern_list_low, shape = generate_random_patterns_low_activity(M,N,a,b)\n",
    "\n",
    "    for i in range(nr_iterations):\n",
    "        retrieved_patterns = []\n",
    "        hamming_distances = []\n",
    "\n",
    "        for init_id in range(M): \n",
    "            noisy_init_pattern, state, state_as_pattern = custom_flip_and_iterate_low(shape, beta, teta , a, b, N, nr_flips, T_f, pattern_list_low, init_pattern=init_id, only_last_state=True)\n",
    "            #print(len(state_as_pattern), len(pattern_list_low[init_id]))\n",
    "            hamming_distance, init_id = study_simple_retrieval_low(state_as_pattern, pattern_list_low[init_id], init_id, N, c_f, silent=True)\n",
    "            if init_id is not None:\n",
    "                retrieved_patterns.append(init_id)\n",
    "            hamming_distances.append(hamming_distance)\n",
    "\n",
    "            error_retrieval_list.append(1/M * np.sum(np.array(hamming_distances), axis=0))\n",
    "\n",
    "        nr_retrieved_patterns_list.append(len(retrieved_patterns))\n",
    "    \n",
    "    mean_error_retrieval_list.append(np.mean(error_retrieval_list))\n",
    "    std_error_retrieval_list.append(np.std(error_retrieval_list))\n",
    "    mean_retrieved_patterns_list.append(np.mean(nr_retrieved_patterns_list))\n",
    "    std_retrieved_patterns_list.append(np.std(nr_retrieved_patterns_list))\n",
    "    max_retrieved_patterns_list[M] = np.amax(nr_retrieved_patterns_list)\n",
    "   "
   ]
  },
  {
   "cell_type": "code",
   "execution_count": 158,
   "metadata": {},
   "outputs": [
    {
     "data": {
      "image/png": "[encoded data removed]",
      "text/plain": [
       "<Figure size 640x480 with 1 Axes>"
      ]
     },
     "metadata": {},
     "output_type": "display_data"
    },
    {
     "data": {
      "image/png": "[encoded data removed]",
      "text/plain": [
       "<Figure size 640x480 with 1 Axes>"
      ]
     },
     "metadata": {},
     "output_type": "display_data"
    }
   ],
   "source": [
    "import matplotlib.pyplot as plt\n",
    "\n",
    "# A plot of the mean error retrieval as a function of M with error bars using the standard deviation:\n",
    "plt.errorbar(M_values, mean_error_retrieval_list, yerr=std_error_retrieval_list, fmt='o')\n",
    "plt.xlabel(\"Number of patterns M\")\n",
    "plt.ylabel(\"Mean error retrieval\")\n",
    "plt.title(\"Mean error retrieval as a function of M for low acitivity Hopfield model\")\n",
    "plt.show()\n",
    "\n",
    "plt.errorbar(M_values, mean_retrieved_patterns_list, yerr=std_retrieved_patterns_list, fmt='o')\n",
    "plt.xlabel(\"Number of patterns M\")\n",
    "plt.ylabel(\"Number of retrieved patterns\")\n",
    "plt.title(\"Number of retrieved patterns as a function of M for low acitivity Hopfield model\")\n",
    "plt.show()\n"
   ]
  },
  {
   "cell_type": "code",
   "execution_count": 159,
   "metadata": {},
   "outputs": [
    {
     "name": "stdout",
     "output_type": "stream",
     "text": [
      "Theoretical maximum number of patterns: 10.857362047581296\n",
      "Experimental maximum number of patterns: 5\n",
      "Capacity: 0.05\n",
      "Loading: 0.05\n"
     ]
    }
   ],
   "source": [
    "M_max_th = N/(2*np.log(N))\n",
    "# The maximum value of all items in the dictionary max_retrieved_patterns_list\n",
    "M_max_exp = np.amax(list(max_retrieved_patterns_list.values()))\n",
    "# The M value corresponding to the maximum value of all items in the dictionary max_retrieved_patterns_list\n",
    "M_value = [key for key, value in max_retrieved_patterns_list.items() if value == M_max_exp][0]\n",
    "capacity = M_max_exp/N\n",
    "loading = M_value/N\n",
    "print(\"Theoretical maximum number of patterns: {}\".format(M_max_th))\n",
    "print(\"Experimental maximum number of patterns: {}\".format(M_max_exp))\n",
    "print(\"Capacity: {}\".format(capacity))\n",
    "print(\"Loading: {}\".format(loading))"
   ]
  },
  {
   "cell_type": "markdown",
   "metadata": {},
   "source": [
    "### Ex 2.4 ###\n",
    "For $a = b = 0.5$, what value of the threshold $\\theta$ corresponds to the best capacity? Plot the capacity as a function of $\\theta$"
   ]
  },
  {
   "cell_type": "code",
   "execution_count": 162,
   "metadata": {},
   "outputs": [],
   "source": [
    "# array of 5 values from -1 to 1 \n",
    "theta_list = np.linspace(-1, 1, 5)"
   ]
  },
  {
   "cell_type": "code",
   "execution_count": 188,
   "metadata": {},
   "outputs": [
    {
     "name": "stdout",
     "output_type": "stream",
     "text": [
      "Computing capacity for thetas...\n",
      "Computing capacity for thetas...\n",
      "Computing capacity for thetas...\n",
      "Computing capacity for thetas...\n",
      "Computing capacity for thetas...\n"
     ]
    }
   ],
   "source": [
    "# A list of M values from 5 to 100 with a step of 5:\n",
    "M_values = np.arange(5, 101, 10)\n",
    "N = 100\n",
    "a = 0.5\n",
    "b = 0.5\n",
    "\n",
    "mean_error_retrieval_list = []\n",
    "std_error_retrieval_list = []\n",
    "mean_retrieved_patterns_list = []\n",
    "std_retrieved_patterns_list = []\n",
    "max_retrieved_patterns_list = {}\n",
    "capacities = []\n",
    "\n",
    "# for each list of thetas, compute the capacity and store it in the capacities list as well as the corresponding thetas\n",
    "for thetas in theta_list:\n",
    "    print(\"Computing capacity for thetas...\")\n",
    "\n",
    "    for M in M_values:\n",
    "        nr_iterations = 5\n",
    "\n",
    "        error_retrieval_list = []\n",
    "        nr_retrieved_patterns_list = []\n",
    "\n",
    "        hopfield_net_low, pattern_list_low, shape = generate_random_patterns_low_activity(M,N,a,b)\n",
    "\n",
    "        for i in range(nr_iterations):\n",
    "            retrieved_patterns = []\n",
    "            hamming_distances = []\n",
    "\n",
    "            for init_id in range(M): \n",
    "                noisy_init_pattern, state, state_as_pattern = custom_flip_and_iterate_low(shape, beta, thetas, a, b, N, nr_flips, T_f, pattern_list_low, init_pattern=init_id, only_last_state=True)\n",
    "                #print(len(state_as_pattern), len(pattern_list_low[init_id]))\n",
    "                hamming_distance, init_id = study_simple_retrieval_low(state_as_pattern, pattern_list_low[init_id], init_id, N, c_f, silent=True)\n",
    "                if init_id is not None:\n",
    "                    retrieved_patterns.append(init_id)\n",
    "                hamming_distances.append(hamming_distance)\n",
    "\n",
    "            error_retrieval_list.append(1/M * np.sum(np.array(hamming_distances), axis=0))\n",
    "            nr_retrieved_patterns_list.append(len(retrieved_patterns))\n",
    "        \n",
    "        mean_error_retrieval_list.append(np.mean(error_retrieval_list))\n",
    "        std_error_retrieval_list.append(np.std(error_retrieval_list))\n",
    "        mean_retrieved_patterns_list.append(np.mean(nr_retrieved_patterns_list))\n",
    "        std_retrieved_patterns_list.append(np.std(nr_retrieved_patterns_list))\n",
    "        max_retrieved_patterns_list[M] = np.amax(nr_retrieved_patterns_list)\n",
    "\n",
    "    capacities.append(max_retrieved_patterns_list[M]/N)\n",
    "\n"
   ]
  },
  {
   "cell_type": "code",
   "execution_count": 190,
   "metadata": {},
   "outputs": [
    {
     "name": "stdout",
     "output_type": "stream",
     "text": [
      "[0.0, 0.0, 0.0, 0.0, 0.0] [-1.  -0.5  0.   0.5  1. ]\n"
     ]
    },
    {
     "data": {
      "text/plain": [
       "[<matplotlib.lines.Line2D at 0x11c2cd400>]"
      ]
     },
     "execution_count": 190,
     "metadata": {},
     "output_type": "execute_result"
    },
    {
     "data": {
      "image/png": "[encoded data removed]",
      "text/plain": [
       "<Figure size 640x480 with 1 Axes>"
      ]
     },
     "metadata": {},
     "output_type": "display_data"
    }
   ],
   "source": [
    "import matplotlib.pyplot as plt\n",
    "\n",
    "plt.figure()\n",
    "# have the values of theta on the x-axis and the capacities on the y-axis\n",
    "print(capacities, theta_list)\n",
    "plt.plot(theta_list, capacities)"
   ]
  },
  {
   "cell_type": "markdown",
   "metadata": {},
   "source": [
    "### Ex 2.5 ###\n",
    "Now, we go to the low-activity case. Repeat the previous question for $a = b = 0.1$ and $a = b = 0.05$.\n",
    "What is the optimal value of $\\theta$ in this case? Compare the capacity of the low-activity networks with that of the balanced network. "
   ]
  },
  {
   "cell_type": "code",
   "execution_count": 194,
   "metadata": {},
   "outputs": [
    {
     "name": "stdout",
     "output_type": "stream",
     "text": [
      "Computing capacity for thetas...\n",
      "Computing capacity for thetas...\n"
     ]
    },
    {
     "ename": "KeyboardInterrupt",
     "evalue": "",
     "output_type": "error",
     "traceback": [
      "\u001b[0;31m---------------------------------------------------------------------------\u001b[0m",
      "\u001b[0;31mKeyboardInterrupt\u001b[0m                         Traceback (most recent call last)",
      "Cell \u001b[0;32mIn[194], line 33\u001b[0m\n\u001b[1;32m     30\u001b[0m hamming_distances \u001b[38;5;241m=\u001b[39m []\n\u001b[1;32m     32\u001b[0m \u001b[38;5;28;01mfor\u001b[39;00m init_id \u001b[38;5;129;01min\u001b[39;00m \u001b[38;5;28mrange\u001b[39m(M): \n\u001b[0;32m---> 33\u001b[0m     noisy_init_pattern, state, state_as_pattern \u001b[38;5;241m=\u001b[39m \u001b[43mcustom_flip_and_iterate_low\u001b[49m\u001b[43m(\u001b[49m\u001b[43mshape\u001b[49m\u001b[43m,\u001b[49m\u001b[43m \u001b[49m\u001b[43mbeta\u001b[49m\u001b[43m,\u001b[49m\u001b[43m \u001b[49m\u001b[43mthetas\u001b[49m\u001b[43m,\u001b[49m\u001b[43m \u001b[49m\u001b[43ma\u001b[49m\u001b[43m,\u001b[49m\u001b[43m \u001b[49m\u001b[43mb\u001b[49m\u001b[43m,\u001b[49m\u001b[43m \u001b[49m\u001b[43mN\u001b[49m\u001b[43m,\u001b[49m\u001b[43m \u001b[49m\u001b[43mnr_flips\u001b[49m\u001b[43m,\u001b[49m\u001b[43m \u001b[49m\u001b[43mT_f\u001b[49m\u001b[43m,\u001b[49m\u001b[43m \u001b[49m\u001b[43mpattern_list_low\u001b[49m\u001b[43m,\u001b[49m\u001b[43m \u001b[49m\u001b[43minit_pattern\u001b[49m\u001b[38;5;241;43m=\u001b[39;49m\u001b[43minit_id\u001b[49m\u001b[43m,\u001b[49m\u001b[43m \u001b[49m\u001b[43monly_last_state\u001b[49m\u001b[38;5;241;43m=\u001b[39;49m\u001b[38;5;28;43;01mTrue\u001b[39;49;00m\u001b[43m)\u001b[49m\n\u001b[1;32m     34\u001b[0m     \u001b[38;5;66;03m#print(len(state_as_pattern), len(pattern_list_low[init_id]))\u001b[39;00m\n\u001b[1;32m     35\u001b[0m     hamming_distance, init_id \u001b[38;5;241m=\u001b[39m study_simple_retrieval_low(state_as_pattern, pattern_list_low[init_id], init_id, N, c_f, silent\u001b[38;5;241m=\u001b[39m\u001b[38;5;28;01mTrue\u001b[39;00m)\n",
      "File \u001b[0;32m~/Desktop/Neuronal Dynamics/Mini-project-NX/helper_functions.py:400\u001b[0m, in \u001b[0;36mcustom_flip_and_iterate_low\u001b[0;34m(shape, beta, teta, a, b, N, nr_of_flips, nr_steps, pattern_list, init_pattern, only_last_state, function_name, weights)\u001b[0m\n\u001b[1;32m    398\u001b[0m \u001b[38;5;28;01mif\u001b[39;00m only_last_state:\n\u001b[1;32m    399\u001b[0m     \u001b[38;5;28;01mif\u001b[39;00m function_name \u001b[38;5;241m==\u001b[39m \u001b[38;5;124m\"\u001b[39m\u001b[38;5;124mphi_opti\u001b[39m\u001b[38;5;124m\"\u001b[39m:\n\u001b[0;32m--> 400\u001b[0m         state \u001b[38;5;241m=\u001b[39m \u001b[43mcustom_run_low\u001b[49m\u001b[43m(\u001b[49m\u001b[43mnoisy_init_state\u001b[49m\u001b[43m,\u001b[49m\u001b[43m \u001b[49m\u001b[43mpattern_list\u001b[49m\u001b[43m,\u001b[49m\u001b[43m \u001b[49m\u001b[43mfunction_name\u001b[49m\u001b[43m,\u001b[49m\u001b[43m \u001b[49m\u001b[43mbeta\u001b[49m\u001b[43m,\u001b[49m\u001b[43m \u001b[49m\u001b[43mteta\u001b[49m\u001b[43m,\u001b[49m\u001b[43m \u001b[49m\u001b[43ma\u001b[49m\u001b[43m,\u001b[49m\u001b[43m \u001b[49m\u001b[43mb\u001b[49m\u001b[43m,\u001b[49m\u001b[43m  \u001b[49m\u001b[43mN\u001b[49m\u001b[43m,\u001b[49m\u001b[43m \u001b[49m\u001b[43mnr_steps\u001b[49m\u001b[38;5;241;43m=\u001b[39;49m\u001b[43mnr_steps\u001b[49m\u001b[43m)\u001b[49m\n\u001b[1;32m    401\u001b[0m     \u001b[38;5;28;01melse\u001b[39;00m:\n\u001b[1;32m    402\u001b[0m         state \u001b[38;5;241m=\u001b[39m custom_run_low(noisy_init_state, weights, function_name, beta, teta, a, b, N, nr_steps\u001b[38;5;241m=\u001b[39mnr_steps)\n",
      "File \u001b[0;32m~/Desktop/Neuronal Dynamics/Mini-project-NX/helper_functions.py:373\u001b[0m, in \u001b[0;36mcustom_run_low\u001b[0;34m(state, var_list, function_name, beta, teta, a, b, N, nr_steps)\u001b[0m\n\u001b[1;32m    366\u001b[0m \u001b[38;5;250m\u001b[39m\u001b[38;5;124;03m\"\"\"Runs the dynamics.using the custom iterate function\u001b[39;00m\n\u001b[1;32m    367\u001b[0m \n\u001b[1;32m    368\u001b[0m \u001b[38;5;124;03mArgs:\u001b[39;00m\n\u001b[1;32m    369\u001b[0m \u001b[38;5;124;03m    nr_steps (float, optional): Timesteps to simulate\u001b[39;00m\n\u001b[1;32m    370\u001b[0m \u001b[38;5;124;03m\"\"\"\u001b[39;00m\n\u001b[1;32m    371\u001b[0m \u001b[38;5;28;01mfor\u001b[39;00m i \u001b[38;5;129;01min\u001b[39;00m \u001b[38;5;28mrange\u001b[39m(nr_steps):\n\u001b[1;32m    372\u001b[0m     \u001b[38;5;66;03m# run a step\u001b[39;00m\n\u001b[0;32m--> 373\u001b[0m     state \u001b[38;5;241m=\u001b[39m \u001b[43mcustom_iterate_low\u001b[49m\u001b[43m(\u001b[49m\u001b[43mstate\u001b[49m\u001b[43m,\u001b[49m\u001b[43m \u001b[49m\u001b[43mvar_list\u001b[49m\u001b[43m,\u001b[49m\u001b[43m \u001b[49m\u001b[43mfunction_name\u001b[49m\u001b[43m,\u001b[49m\u001b[43m \u001b[49m\u001b[43mbeta\u001b[49m\u001b[43m,\u001b[49m\u001b[43m \u001b[49m\u001b[43mteta\u001b[49m\u001b[43m,\u001b[49m\u001b[43m \u001b[49m\u001b[43ma\u001b[49m\u001b[43m,\u001b[49m\u001b[43m \u001b[49m\u001b[43mb\u001b[49m\u001b[43m,\u001b[49m\u001b[43m \u001b[49m\u001b[43mN\u001b[49m\u001b[43m)\u001b[49m\n\u001b[1;32m    374\u001b[0m \u001b[38;5;28;01mreturn\u001b[39;00m state\n",
      "File \u001b[0;32m~/Desktop/Neuronal Dynamics/Mini-project-NX/helper_functions.py:362\u001b[0m, in \u001b[0;36mcustom_iterate_low\u001b[0;34m(initial_state, var_list, function_name, beta, teta, a, b, N)\u001b[0m\n\u001b[1;32m    360\u001b[0m \u001b[38;5;250m\u001b[39m\u001b[38;5;124;03m\"\"\"Executes one timestep of the dynamics using weights OR patterns.\"\"\"\u001b[39;00m\n\u001b[1;32m    361\u001b[0m custom_f \u001b[38;5;241m=\u001b[39m custom_function_low(function_name, beta, teta, a, b, N)\n\u001b[0;32m--> 362\u001b[0m next_state \u001b[38;5;241m=\u001b[39m \u001b[43mcustom_f\u001b[49m\u001b[43m(\u001b[49m\u001b[43minitial_state\u001b[49m\u001b[43m,\u001b[49m\u001b[43m \u001b[49m\u001b[43mvar_list\u001b[49m\u001b[43m)\u001b[49m\n\u001b[1;32m    363\u001b[0m \u001b[38;5;28;01mreturn\u001b[39;00m next_state\n",
      "File \u001b[0;32m~/Desktop/Neuronal Dynamics/Mini-project-NX/helper_functions.py:350\u001b[0m, in \u001b[0;36mcustom_function_low.<locals>.custom_f\u001b[0;34m(sigma_s0, pattern_list)\u001b[0m\n\u001b[1;32m    348\u001b[0m flattened_pattern_list \u001b[38;5;241m=\u001b[39m np\u001b[38;5;241m.\u001b[39marray([pattern\u001b[38;5;241m.\u001b[39mflatten() \u001b[38;5;28;01mfor\u001b[39;00m pattern \u001b[38;5;129;01min\u001b[39;00m pattern_list])\n\u001b[1;32m    349\u001b[0m \u001b[38;5;28;01mfor\u001b[39;00m pattern \u001b[38;5;129;01min\u001b[39;00m flattened_pattern_list:\n\u001b[0;32m--> 350\u001b[0m     m_list\u001b[38;5;241m.\u001b[39mappend((c\u001b[38;5;241m/\u001b[39mN) \u001b[38;5;241m*\u001b[39m \u001b[43mnp\u001b[49m\u001b[38;5;241;43m.\u001b[39;49m\u001b[43msum\u001b[49m\u001b[43m(\u001b[49m\u001b[43mnp\u001b[49m\u001b[38;5;241;43m.\u001b[39;49m\u001b[43mdot\u001b[49m\u001b[43m(\u001b[49m\u001b[43mpattern\u001b[49m\u001b[43m \u001b[49m\u001b[38;5;241;43m-\u001b[39;49m\u001b[43m \u001b[49m\u001b[43ma\u001b[49m\u001b[43m,\u001b[49m\u001b[43m \u001b[49m\u001b[43msigma_s0\u001b[49m\u001b[43m)\u001b[49m\u001b[43m)\u001b[49m)\n\u001b[1;32m    351\u001b[0m h \u001b[38;5;241m=\u001b[39m np\u001b[38;5;241m.\u001b[39msum((flattened_pattern_list \u001b[38;5;241m-\u001b[39m b) \u001b[38;5;241m*\u001b[39m np\u001b[38;5;241m.\u001b[39marray(m_list)[:, \u001b[38;5;28;01mNone\u001b[39;00m], axis\u001b[38;5;241m=\u001b[39m\u001b[38;5;241m0\u001b[39m) \u001b[38;5;241m-\u001b[39m teta\n\u001b[1;32m    352\u001b[0m state_s1 \u001b[38;5;241m=\u001b[39m np\u001b[38;5;241m.\u001b[39mtanh(beta \u001b[38;5;241m*\u001b[39m h)\n",
      "File \u001b[0;32m~/Library/Python/3.9/lib/python/site-packages/numpy/core/fromnumeric.py:2313\u001b[0m, in \u001b[0;36msum\u001b[0;34m(a, axis, dtype, out, keepdims, initial, where)\u001b[0m\n\u001b[1;32m   2310\u001b[0m         \u001b[38;5;28;01mreturn\u001b[39;00m out\n\u001b[1;32m   2311\u001b[0m     \u001b[38;5;28;01mreturn\u001b[39;00m res\n\u001b[0;32m-> 2313\u001b[0m \u001b[38;5;28;01mreturn\u001b[39;00m \u001b[43m_wrapreduction\u001b[49m\u001b[43m(\u001b[49m\u001b[43ma\u001b[49m\u001b[43m,\u001b[49m\u001b[43m \u001b[49m\u001b[43mnp\u001b[49m\u001b[38;5;241;43m.\u001b[39;49m\u001b[43madd\u001b[49m\u001b[43m,\u001b[49m\u001b[43m \u001b[49m\u001b[38;5;124;43m'\u001b[39;49m\u001b[38;5;124;43msum\u001b[39;49m\u001b[38;5;124;43m'\u001b[39;49m\u001b[43m,\u001b[49m\u001b[43m \u001b[49m\u001b[43maxis\u001b[49m\u001b[43m,\u001b[49m\u001b[43m \u001b[49m\u001b[43mdtype\u001b[49m\u001b[43m,\u001b[49m\u001b[43m \u001b[49m\u001b[43mout\u001b[49m\u001b[43m,\u001b[49m\u001b[43m \u001b[49m\u001b[43mkeepdims\u001b[49m\u001b[38;5;241;43m=\u001b[39;49m\u001b[43mkeepdims\u001b[49m\u001b[43m,\u001b[49m\n\u001b[1;32m   2314\u001b[0m \u001b[43m                      \u001b[49m\u001b[43minitial\u001b[49m\u001b[38;5;241;43m=\u001b[39;49m\u001b[43minitial\u001b[49m\u001b[43m,\u001b[49m\u001b[43m \u001b[49m\u001b[43mwhere\u001b[49m\u001b[38;5;241;43m=\u001b[39;49m\u001b[43mwhere\u001b[49m\u001b[43m)\u001b[49m\n",
      "File \u001b[0;32m~/Library/Python/3.9/lib/python/site-packages/numpy/core/fromnumeric.py:86\u001b[0m, in \u001b[0;36m_wrapreduction\u001b[0;34m(obj, ufunc, method, axis, dtype, out, **kwargs)\u001b[0m\n\u001b[1;32m     84\u001b[0m             \u001b[38;5;28;01mreturn\u001b[39;00m reduction(axis\u001b[38;5;241m=\u001b[39maxis, dtype\u001b[38;5;241m=\u001b[39mdtype, out\u001b[38;5;241m=\u001b[39mout, \u001b[38;5;241m*\u001b[39m\u001b[38;5;241m*\u001b[39mpasskwargs)\n\u001b[1;32m     85\u001b[0m         \u001b[38;5;28;01melse\u001b[39;00m:\n\u001b[0;32m---> 86\u001b[0m             \u001b[38;5;28;01mreturn\u001b[39;00m \u001b[43mreduction\u001b[49m\u001b[43m(\u001b[49m\u001b[43maxis\u001b[49m\u001b[38;5;241;43m=\u001b[39;49m\u001b[43maxis\u001b[49m\u001b[43m,\u001b[49m\u001b[43m \u001b[49m\u001b[43mout\u001b[49m\u001b[38;5;241;43m=\u001b[39;49m\u001b[43mout\u001b[49m\u001b[43m,\u001b[49m\u001b[43m \u001b[49m\u001b[38;5;241;43m*\u001b[39;49m\u001b[38;5;241;43m*\u001b[39;49m\u001b[43mpasskwargs\u001b[49m\u001b[43m)\u001b[49m\n\u001b[1;32m     88\u001b[0m \u001b[38;5;28;01mreturn\u001b[39;00m ufunc\u001b[38;5;241m.\u001b[39mreduce(obj, axis, dtype, out, \u001b[38;5;241m*\u001b[39m\u001b[38;5;241m*\u001b[39mpasskwargs)\n",
      "File \u001b[0;32m~/Library/Python/3.9/lib/python/site-packages/numpy/core/_methods.py:47\u001b[0m, in \u001b[0;36m_sum\u001b[0;34m(a, axis, dtype, out, keepdims, initial, where)\u001b[0m\n\u001b[1;32m     43\u001b[0m \u001b[38;5;28;01mdef\u001b[39;00m \u001b[38;5;21m_amin\u001b[39m(a, axis\u001b[38;5;241m=\u001b[39m\u001b[38;5;28;01mNone\u001b[39;00m, out\u001b[38;5;241m=\u001b[39m\u001b[38;5;28;01mNone\u001b[39;00m, keepdims\u001b[38;5;241m=\u001b[39m\u001b[38;5;28;01mFalse\u001b[39;00m,\n\u001b[1;32m     44\u001b[0m           initial\u001b[38;5;241m=\u001b[39m_NoValue, where\u001b[38;5;241m=\u001b[39m\u001b[38;5;28;01mTrue\u001b[39;00m):\n\u001b[1;32m     45\u001b[0m     \u001b[38;5;28;01mreturn\u001b[39;00m umr_minimum(a, axis, \u001b[38;5;28;01mNone\u001b[39;00m, out, keepdims, initial, where)\n\u001b[0;32m---> 47\u001b[0m \u001b[38;5;28;01mdef\u001b[39;00m \u001b[38;5;21m_sum\u001b[39m(a, axis\u001b[38;5;241m=\u001b[39m\u001b[38;5;28;01mNone\u001b[39;00m, dtype\u001b[38;5;241m=\u001b[39m\u001b[38;5;28;01mNone\u001b[39;00m, out\u001b[38;5;241m=\u001b[39m\u001b[38;5;28;01mNone\u001b[39;00m, keepdims\u001b[38;5;241m=\u001b[39m\u001b[38;5;28;01mFalse\u001b[39;00m,\n\u001b[1;32m     48\u001b[0m          initial\u001b[38;5;241m=\u001b[39m_NoValue, where\u001b[38;5;241m=\u001b[39m\u001b[38;5;28;01mTrue\u001b[39;00m):\n\u001b[1;32m     49\u001b[0m     \u001b[38;5;28;01mreturn\u001b[39;00m umr_sum(a, axis, dtype, out, keepdims, initial, where)\n\u001b[1;32m     51\u001b[0m \u001b[38;5;28;01mdef\u001b[39;00m \u001b[38;5;21m_prod\u001b[39m(a, axis\u001b[38;5;241m=\u001b[39m\u001b[38;5;28;01mNone\u001b[39;00m, dtype\u001b[38;5;241m=\u001b[39m\u001b[38;5;28;01mNone\u001b[39;00m, out\u001b[38;5;241m=\u001b[39m\u001b[38;5;28;01mNone\u001b[39;00m, keepdims\u001b[38;5;241m=\u001b[39m\u001b[38;5;28;01mFalse\u001b[39;00m,\n\u001b[1;32m     52\u001b[0m           initial\u001b[38;5;241m=\u001b[39m_NoValue, where\u001b[38;5;241m=\u001b[39m\u001b[38;5;28;01mTrue\u001b[39;00m):\n",
      "\u001b[0;31mKeyboardInterrupt\u001b[0m: "
     ]
    }
   ],
   "source": [
    "from helper_functions import study_simple_retrieval_low\n",
    "\n",
    "# A list of M values from 5 to 100 with a step of 5:\n",
    "M_values = np.arange(5, 101, 5)\n",
    "N = 100\n",
    "a = 0.1\n",
    "b = 0.1 \n",
    "\n",
    "mean_error_retrieval_list = []\n",
    "std_error_retrieval_list = []\n",
    "mean_retrieved_patterns_list = []\n",
    "std_retrieved_patterns_list = []\n",
    "max_retrieved_patterns_list = {}\n",
    "capacities = []\n",
    "\n",
    "# for each list of thetas, compute the capacity and store it in the capacities list as well as the corresponding thetas\n",
    "for thetas in theta_list:\n",
    "    print(\"Computing capacity for thetas...\")\n",
    "\n",
    "    for M in M_values:\n",
    "        nr_iterations = 5\n",
    "\n",
    "        error_retrieval_list = []\n",
    "        nr_retrieved_patterns_list = []\n",
    "\n",
    "        hopfield_net_low, pattern_list_low, shape = generate_random_patterns_low_activity(M,N,a,b)\n",
    "\n",
    "        for i in range(nr_iterations):\n",
    "            retrieved_patterns = []\n",
    "            hamming_distances = []\n",
    "\n",
    "            for init_id in range(M): \n",
    "                noisy_init_pattern, state, state_as_pattern = custom_flip_and_iterate_low(shape, beta, thetas, a, b, N, nr_flips, T_f, pattern_list_low, init_pattern=init_id, only_last_state=True)\n",
    "                #print(len(state_as_pattern), len(pattern_list_low[init_id]))\n",
    "                hamming_distance, init_id = study_simple_retrieval_low(state_as_pattern, pattern_list_low[init_id], init_id, N, c_f, silent=True)\n",
    "                if init_id is not None:\n",
    "                    retrieved_patterns.append(init_id)\n",
    "                hamming_distances.append(hamming_distance)\n",
    "\n",
    "            error_retrieval_list.append(1/M * np.sum(np.array(hamming_distances), axis=0))\n",
    "            nr_retrieved_patterns_list.append(len(retrieved_patterns))\n",
    "        \n",
    "        mean_error_retrieval_list.append(np.mean(error_retrieval_list))\n",
    "        std_error_retrieval_list.append(np.std(error_retrieval_list))\n",
    "        mean_retrieved_patterns_list.append(np.mean(nr_retrieved_patterns_list))\n",
    "        std_retrieved_patterns_list.append(np.std(nr_retrieved_patterns_list))\n",
    "        max_retrieved_patterns_list[M] = np.amax(nr_retrieved_patterns_list)\n",
    "\n",
    "    capacities.append(max_retrieved_patterns_list[M]/N)\n"
   ]
  },
  {
   "cell_type": "code",
   "execution_count": null,
   "metadata": {},
   "outputs": [],
   "source": [
    "\n",
    "plt.figure()\n",
    "# have the values of theta on the x-axis and the capacities on the y-axis\n",
    "print(capacities, theta_list)\n",
    "plt.plot(theta_list, capacities)"
   ]
  },
  {
   "cell_type": "code",
   "execution_count": null,
   "metadata": {},
   "outputs": [],
   "source": [
    "# A list of M values from 5 to 100 with a step of 5:\n",
    "M_values = np.arange(5, 20, 50)\n",
    "N = 300\n",
    "a = 0.05\n",
    "b = 0.05\n",
    "\n",
    "mean_error_retrieval_list = []\n",
    "std_error_retrieval_list = []\n",
    "mean_retrieved_patterns_list = []\n",
    "std_retrieved_patterns_list = []\n",
    "max_retrieved_patterns_list = {}\n",
    "capacities = []\n",
    "\n",
    "# for each list of thetas, compute the capacity and store it in the capacities list as well as the corresponding thetas\n",
    "for thetas in theta_list:\n",
    "    print(\"Computing capacity for thetas...\")\n",
    "\n",
    "    for M in M_values:\n",
    "        nr_iterations = 5\n",
    "\n",
    "        error_retrieval_list = []\n",
    "        nr_retrieved_patterns_list = []\n",
    "\n",
    "        hopfield_net_low, pattern_list_low, shape = generate_random_patterns_low_activity(M,N,a,b)\n",
    "\n",
    "        for i in range(nr_iterations):\n",
    "            retrieved_patterns = []\n",
    "            hamming_distances = []\n",
    "\n",
    "            for init_id in range(M): \n",
    "                noisy_init_pattern, state, state_as_pattern = custom_flip_and_iterate_low(shape, beta, thetas, a, b, N, nr_flips, T_f, pattern_list_low, init_pattern=init_id, only_last_state=True)\n",
    "                #print(len(state_as_pattern), len(pattern_list_low[init_id]))\n",
    "                hamming_distance, init_id = study_simple_retrieval_low(state_as_pattern, pattern_list_low[init_id], init_id, N, c_f, silent=True)\n",
    "                if init_id is not None:\n",
    "                    retrieved_patterns.append(init_id)\n",
    "                hamming_distances.append(hamming_distance)\n",
    "\n",
    "            error_retrieval_list.append(1/M * np.sum(np.array(hamming_distances), axis=0))\n",
    "            nr_retrieved_patterns_list.append(len(retrieved_patterns))\n",
    "        \n",
    "        mean_error_retrieval_list.append(np.mean(error_retrieval_list))\n",
    "        std_error_retrieval_list.append(np.std(error_retrieval_list))\n",
    "        mean_retrieved_patterns_list.append(np.mean(nr_retrieved_patterns_list))\n",
    "        std_retrieved_patterns_list.append(np.std(nr_retrieved_patterns_list))\n",
    "        max_retrieved_patterns_list[M] = np.amax(nr_retrieved_patterns_list)\n",
    "\n",
    "    capacities.append(max_retrieved_patterns_list[M]/N)"
   ]
  },
  {
   "cell_type": "code",
   "execution_count": null,
   "metadata": {},
   "outputs": [],
   "source": [
    "plt.figure()\n",
    "# have the values of theta on the x-axis and the capacities on the y-axis\n",
    "print(capacities, theta_list)\n",
    "plt.plot(theta_list, capacities)"
   ]
  }
 ],
 "metadata": {
  "kernelspec": {
   "display_name": "bmnn",
   "language": "python",
   "name": "python3"
  },
  "language_info": {
   "codemirror_mode": {
    "name": "ipython",
    "version": 3
   },
   "file_extension": ".py",
   "mimetype": "text/x-python",
   "name": "python",
   "nbconvert_exporter": "python",
   "pygments_lexer": "ipython3",
   "version": "3.9.6"
  },
  "orig_nbformat": 4
 },
 "nbformat": 4,
 "nbformat_minor": 2
}
